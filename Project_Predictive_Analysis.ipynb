{
  "nbformat": 4,
  "nbformat_minor": 0,
  "metadata": {
    "colab": {
      "provenance": []
    },
    "kernelspec": {
      "name": "python3",
      "display_name": "Python 3"
    },
    "language_info": {
      "name": "python"
    }
  },
  "cells": [
    {
      "cell_type": "markdown",
      "source": [
        "# **Proyek Predictive Analytics**"
      ],
      "metadata": {
        "id": "AlQPYDXRBnqQ"
      }
    },
    {
      "cell_type": "markdown",
      "source": [
        "- Nama : Margareth Serepine S\n",
        "- Cohort ID : MC319D5X0736\n",
        "- Email : margareths4167@gmail.com\n"
      ],
      "metadata": {
        "id": "mpD3VP5bB1kx"
      }
    },
    {
      "cell_type": "markdown",
      "source": [
        "# **Latar Belakang Proyek**"
      ],
      "metadata": {
        "id": "Qk85ona3Ba1L"
      }
    },
    {
      "cell_type": "markdown",
      "source": [
        "Pendidikan merupakan fondasi utama dalam membangun sumber daya manusia. Keberhasilan siswa dalam studi mereka bergantung pada banyak faktor, mulai dari kebiasaan belajar, latar belakang keluarga, akses terhadap fasilitas belajar, tingkat kehadiran, hingga partisipasi dalam kegiatan ekstrakurikuler. Namun, tidak semua siswa menunjukkan performa akademik yang optimal.\n",
        "\n",
        "Dalam konteks ini, kemampuan untuk memprediksi performa akademik siswa dapat membantu guru, orang tua, dan pengambil kebijakan pendidikan dalam memberikan intervensi yang tepat waktu.\n",
        "\n",
        "Melalui proyek ini, dikembangkan model prediksi performa akademik siswa berdasarkan atribut-atribut tertentu, dengan fokus pada klasifikasi status kelulusan."
      ],
      "metadata": {
        "id": "yE22vfemC3_9"
      }
    },
    {
      "cell_type": "markdown",
      "source": [
        "## **Import Library**"
      ],
      "metadata": {
        "id": "Sor2mNulCz78"
      }
    },
    {
      "cell_type": "markdown",
      "source": [
        "Dilakukan proses import berbagai pustaka (*libraries*) yang diperlukan untuk keperluan analisis data, visualisasi, dan pemodelan machine learning.\n",
        "\n",
        "- `numpy`, `pandas`: Digunakan untuk manipulasi data numerik dan pengolahan data tabular.\n",
        "- `matplotlib.pyplot`, `seaborn`: Digunakan untuk membuat visualisasi data, baik yang bersifat eksploratif maupun untuk penyajian hasil.\n",
        "- `os`, `shutil`: Pustaka bawaan Python untuk operasi file dan direktori.\n",
        "- `kagglehub`: Digunakan untuk mengunduh model atau dataset dari Kaggle Hub.\n",
        "\n",
        "- `LabelEncoder`: Untuk mengubah label kategorikal menjadi format numerik.\n",
        "- `train_test_split`: Untuk membagi dataset menjadi data latih dan data uji.\n",
        "- `DecisionTreeClassifier`, `RandomForestClassifier`: Algoritma klasifikasi berbasis pohon keputusan.\n",
        "- `RandomizedSearchCV`: Digunakan untuk melakukan pencarian hyperparameter secara acak (*randomized search*) pada model.\n",
        "- `classification_report`, `confusion_matrix`, `accuracy_score`, `precision_score`, `recall_score`, `f1_score`: Berfungsi untuk mengevaluasi performa model klasifikasi melalui berbagai metrik evaluasi.\n",
        "\n",
        "Dengan library-library ini, pipeline analisis dan pemodelan machine learning dapat dibangun dengan lebih efisien dan terstruktur.\n"
      ],
      "metadata": {
        "id": "FSDWx7H_Cz4j"
      }
    },
    {
      "cell_type": "code",
      "source": [
        "import numpy as np\n",
        "import matplotlib.pyplot as plt\n",
        "import pandas as pd\n",
        "import seaborn as sns\n",
        "import os\n",
        "import shutil\n",
        "import kagglehub\n",
        "\n",
        "from sklearn.preprocessing import LabelEncoder\n",
        "from sklearn.model_selection import train_test_split\n",
        "from sklearn.tree import DecisionTreeClassifier\n",
        "from sklearn.metrics import classification_report, confusion_matrix\n",
        "from sklearn.metrics import accuracy_score, precision_score, recall_score, f1_score\n",
        "from sklearn.ensemble import RandomForestClassifier\n",
        "from sklearn.model_selection import RandomizedSearchCV\n"
      ],
      "metadata": {
        "id": "WC2xzJnYA1PC"
      },
      "execution_count": 1,
      "outputs": []
    },
    {
      "cell_type": "markdown",
      "source": [
        "## **Load Data**"
      ],
      "metadata": {
        "id": "IuJHEe2sDAok"
      }
    },
    {
      "cell_type": "markdown",
      "source": [
        "Mengunduh Dataset dari Kaggle Hub menggunakan pustaka `kagglehub`."
      ],
      "metadata": {
        "id": "onctmElSOAAz"
      }
    },
    {
      "cell_type": "code",
      "execution_count": 2,
      "metadata": {
        "colab": {
          "base_uri": "https://localhost:8080/"
        },
        "id": "0PqQ6J9O6guK",
        "outputId": "a643fe28-eedd-40da-da5e-db1257d6a4f4"
      },
      "outputs": [
        {
          "output_type": "stream",
          "name": "stdout",
          "text": [
            "Path to dataset files: /kaggle/input/student-performance-prediction\n"
          ]
        }
      ],
      "source": [
        "path = kagglehub.dataset_download(\"amrmaree/student-performance-prediction\")\n",
        "\n",
        "print(\"Path to dataset files:\", path)"
      ]
    },
    {
      "cell_type": "code",
      "source": [
        "path"
      ],
      "metadata": {
        "colab": {
          "base_uri": "https://localhost:8080/",
          "height": 36
        },
        "id": "Cbb1WHWX_FkM",
        "outputId": "a69809f5-bacb-42d4-d412-6f0e3891cde0"
      },
      "execution_count": 3,
      "outputs": [
        {
          "output_type": "execute_result",
          "data": {
            "text/plain": [
              "'/kaggle/input/student-performance-prediction'"
            ],
            "application/vnd.google.colaboratory.intrinsic+json": {
              "type": "string"
            }
          },
          "metadata": {},
          "execution_count": 3
        }
      ]
    },
    {
      "cell_type": "code",
      "source": [
        "path = ''.join([path, '/', os.listdir(path)[0]])\n",
        "path"
      ],
      "metadata": {
        "colab": {
          "base_uri": "https://localhost:8080/",
          "height": 36
        },
        "id": "TamhjxBq_GFy",
        "outputId": "35999281-fc4b-4acc-9acf-85adb62fcd1f"
      },
      "execution_count": 4,
      "outputs": [
        {
          "output_type": "execute_result",
          "data": {
            "text/plain": [
              "'/kaggle/input/student-performance-prediction/student_performance_dataset.csv'"
            ],
            "application/vnd.google.colaboratory.intrinsic+json": {
              "type": "string"
            }
          },
          "metadata": {},
          "execution_count": 4
        }
      ]
    },
    {
      "cell_type": "markdown",
      "source": [
        "Setelah dataset berhasil diunduh, langkah selanjutnya adalah menentukan path lengkap menuju folder yang berisi file dataset.\n"
      ],
      "metadata": {
        "id": "J-XQxln8OQ1k"
      }
    },
    {
      "cell_type": "code",
      "source": [
        "df = pd.read_csv(path)\n",
        "df"
      ],
      "metadata": {
        "colab": {
          "base_uri": "https://localhost:8080/",
          "height": 423
        },
        "id": "7p7HXlR3_OKF",
        "outputId": "65ec7bc3-1442-4427-e20d-9ac0d75a9986"
      },
      "execution_count": 5,
      "outputs": [
        {
          "output_type": "execute_result",
          "data": {
            "text/plain": [
              "    Student_ID  Gender  Study_Hours_per_Week  Attendance_Rate  \\\n",
              "0         S147    Male                    31        68.267841   \n",
              "1         S136    Male                    16        78.222927   \n",
              "2         S209  Female                    21        87.525096   \n",
              "3         S458  Female                    27        92.076483   \n",
              "4         S078  Female                    37        98.655517   \n",
              "..         ...     ...                   ...              ...   \n",
              "703       S492    Male                    14        84.658761   \n",
              "704       S301    Male                    35        60.278990   \n",
              "705       S473    Male                    25        98.384969   \n",
              "706       S307  Female                    21        96.148012   \n",
              "707       S046  Female                    22        80.404392   \n",
              "\n",
              "     Past_Exam_Scores Parental_Education_Level Internet_Access_at_Home  \\\n",
              "0                  86              High School                     Yes   \n",
              "1                  73                      PhD                      No   \n",
              "2                  74                      PhD                     Yes   \n",
              "3                  99                Bachelors                      No   \n",
              "4                  63                  Masters                      No   \n",
              "..                ...                      ...                     ...   \n",
              "703                78                      PhD                     Yes   \n",
              "704                83                  Masters                      No   \n",
              "705                75                Bachelors                     Yes   \n",
              "706                84                Bachelors                     Yes   \n",
              "707                93                Bachelors                     Yes   \n",
              "\n",
              "    Extracurricular_Activities  Final_Exam_Score Pass_Fail  \n",
              "0                          Yes                63      Pass  \n",
              "1                           No                50      Fail  \n",
              "2                           No                55      Fail  \n",
              "3                           No                65      Pass  \n",
              "4                          Yes                70      Pass  \n",
              "..                         ...               ...       ...  \n",
              "703                         No                50      Fail  \n",
              "704                         No                62      Pass  \n",
              "705                         No                57      Fail  \n",
              "706                         No                65      Pass  \n",
              "707                         No                55      Fail  \n",
              "\n",
              "[708 rows x 10 columns]"
            ],
            "text/html": [
              "\n",
              "  <div id=\"df-dbf9fb62-d2c3-4e14-a764-48d5fa263bfe\" class=\"colab-df-container\">\n",
              "    <div>\n",
              "<style scoped>\n",
              "    .dataframe tbody tr th:only-of-type {\n",
              "        vertical-align: middle;\n",
              "    }\n",
              "\n",
              "    .dataframe tbody tr th {\n",
              "        vertical-align: top;\n",
              "    }\n",
              "\n",
              "    .dataframe thead th {\n",
              "        text-align: right;\n",
              "    }\n",
              "</style>\n",
              "<table border=\"1\" class=\"dataframe\">\n",
              "  <thead>\n",
              "    <tr style=\"text-align: right;\">\n",
              "      <th></th>\n",
              "      <th>Student_ID</th>\n",
              "      <th>Gender</th>\n",
              "      <th>Study_Hours_per_Week</th>\n",
              "      <th>Attendance_Rate</th>\n",
              "      <th>Past_Exam_Scores</th>\n",
              "      <th>Parental_Education_Level</th>\n",
              "      <th>Internet_Access_at_Home</th>\n",
              "      <th>Extracurricular_Activities</th>\n",
              "      <th>Final_Exam_Score</th>\n",
              "      <th>Pass_Fail</th>\n",
              "    </tr>\n",
              "  </thead>\n",
              "  <tbody>\n",
              "    <tr>\n",
              "      <th>0</th>\n",
              "      <td>S147</td>\n",
              "      <td>Male</td>\n",
              "      <td>31</td>\n",
              "      <td>68.267841</td>\n",
              "      <td>86</td>\n",
              "      <td>High School</td>\n",
              "      <td>Yes</td>\n",
              "      <td>Yes</td>\n",
              "      <td>63</td>\n",
              "      <td>Pass</td>\n",
              "    </tr>\n",
              "    <tr>\n",
              "      <th>1</th>\n",
              "      <td>S136</td>\n",
              "      <td>Male</td>\n",
              "      <td>16</td>\n",
              "      <td>78.222927</td>\n",
              "      <td>73</td>\n",
              "      <td>PhD</td>\n",
              "      <td>No</td>\n",
              "      <td>No</td>\n",
              "      <td>50</td>\n",
              "      <td>Fail</td>\n",
              "    </tr>\n",
              "    <tr>\n",
              "      <th>2</th>\n",
              "      <td>S209</td>\n",
              "      <td>Female</td>\n",
              "      <td>21</td>\n",
              "      <td>87.525096</td>\n",
              "      <td>74</td>\n",
              "      <td>PhD</td>\n",
              "      <td>Yes</td>\n",
              "      <td>No</td>\n",
              "      <td>55</td>\n",
              "      <td>Fail</td>\n",
              "    </tr>\n",
              "    <tr>\n",
              "      <th>3</th>\n",
              "      <td>S458</td>\n",
              "      <td>Female</td>\n",
              "      <td>27</td>\n",
              "      <td>92.076483</td>\n",
              "      <td>99</td>\n",
              "      <td>Bachelors</td>\n",
              "      <td>No</td>\n",
              "      <td>No</td>\n",
              "      <td>65</td>\n",
              "      <td>Pass</td>\n",
              "    </tr>\n",
              "    <tr>\n",
              "      <th>4</th>\n",
              "      <td>S078</td>\n",
              "      <td>Female</td>\n",
              "      <td>37</td>\n",
              "      <td>98.655517</td>\n",
              "      <td>63</td>\n",
              "      <td>Masters</td>\n",
              "      <td>No</td>\n",
              "      <td>Yes</td>\n",
              "      <td>70</td>\n",
              "      <td>Pass</td>\n",
              "    </tr>\n",
              "    <tr>\n",
              "      <th>...</th>\n",
              "      <td>...</td>\n",
              "      <td>...</td>\n",
              "      <td>...</td>\n",
              "      <td>...</td>\n",
              "      <td>...</td>\n",
              "      <td>...</td>\n",
              "      <td>...</td>\n",
              "      <td>...</td>\n",
              "      <td>...</td>\n",
              "      <td>...</td>\n",
              "    </tr>\n",
              "    <tr>\n",
              "      <th>703</th>\n",
              "      <td>S492</td>\n",
              "      <td>Male</td>\n",
              "      <td>14</td>\n",
              "      <td>84.658761</td>\n",
              "      <td>78</td>\n",
              "      <td>PhD</td>\n",
              "      <td>Yes</td>\n",
              "      <td>No</td>\n",
              "      <td>50</td>\n",
              "      <td>Fail</td>\n",
              "    </tr>\n",
              "    <tr>\n",
              "      <th>704</th>\n",
              "      <td>S301</td>\n",
              "      <td>Male</td>\n",
              "      <td>35</td>\n",
              "      <td>60.278990</td>\n",
              "      <td>83</td>\n",
              "      <td>Masters</td>\n",
              "      <td>No</td>\n",
              "      <td>No</td>\n",
              "      <td>62</td>\n",
              "      <td>Pass</td>\n",
              "    </tr>\n",
              "    <tr>\n",
              "      <th>705</th>\n",
              "      <td>S473</td>\n",
              "      <td>Male</td>\n",
              "      <td>25</td>\n",
              "      <td>98.384969</td>\n",
              "      <td>75</td>\n",
              "      <td>Bachelors</td>\n",
              "      <td>Yes</td>\n",
              "      <td>No</td>\n",
              "      <td>57</td>\n",
              "      <td>Fail</td>\n",
              "    </tr>\n",
              "    <tr>\n",
              "      <th>706</th>\n",
              "      <td>S307</td>\n",
              "      <td>Female</td>\n",
              "      <td>21</td>\n",
              "      <td>96.148012</td>\n",
              "      <td>84</td>\n",
              "      <td>Bachelors</td>\n",
              "      <td>Yes</td>\n",
              "      <td>No</td>\n",
              "      <td>65</td>\n",
              "      <td>Pass</td>\n",
              "    </tr>\n",
              "    <tr>\n",
              "      <th>707</th>\n",
              "      <td>S046</td>\n",
              "      <td>Female</td>\n",
              "      <td>22</td>\n",
              "      <td>80.404392</td>\n",
              "      <td>93</td>\n",
              "      <td>Bachelors</td>\n",
              "      <td>Yes</td>\n",
              "      <td>No</td>\n",
              "      <td>55</td>\n",
              "      <td>Fail</td>\n",
              "    </tr>\n",
              "  </tbody>\n",
              "</table>\n",
              "<p>708 rows × 10 columns</p>\n",
              "</div>\n",
              "    <div class=\"colab-df-buttons\">\n",
              "\n",
              "  <div class=\"colab-df-container\">\n",
              "    <button class=\"colab-df-convert\" onclick=\"convertToInteractive('df-dbf9fb62-d2c3-4e14-a764-48d5fa263bfe')\"\n",
              "            title=\"Convert this dataframe to an interactive table.\"\n",
              "            style=\"display:none;\">\n",
              "\n",
              "  <svg xmlns=\"http://www.w3.org/2000/svg\" height=\"24px\" viewBox=\"0 -960 960 960\">\n",
              "    <path d=\"M120-120v-720h720v720H120Zm60-500h600v-160H180v160Zm220 220h160v-160H400v160Zm0 220h160v-160H400v160ZM180-400h160v-160H180v160Zm440 0h160v-160H620v160ZM180-180h160v-160H180v160Zm440 0h160v-160H620v160Z\"/>\n",
              "  </svg>\n",
              "    </button>\n",
              "\n",
              "  <style>\n",
              "    .colab-df-container {\n",
              "      display:flex;\n",
              "      gap: 12px;\n",
              "    }\n",
              "\n",
              "    .colab-df-convert {\n",
              "      background-color: #E8F0FE;\n",
              "      border: none;\n",
              "      border-radius: 50%;\n",
              "      cursor: pointer;\n",
              "      display: none;\n",
              "      fill: #1967D2;\n",
              "      height: 32px;\n",
              "      padding: 0 0 0 0;\n",
              "      width: 32px;\n",
              "    }\n",
              "\n",
              "    .colab-df-convert:hover {\n",
              "      background-color: #E2EBFA;\n",
              "      box-shadow: 0px 1px 2px rgba(60, 64, 67, 0.3), 0px 1px 3px 1px rgba(60, 64, 67, 0.15);\n",
              "      fill: #174EA6;\n",
              "    }\n",
              "\n",
              "    .colab-df-buttons div {\n",
              "      margin-bottom: 4px;\n",
              "    }\n",
              "\n",
              "    [theme=dark] .colab-df-convert {\n",
              "      background-color: #3B4455;\n",
              "      fill: #D2E3FC;\n",
              "    }\n",
              "\n",
              "    [theme=dark] .colab-df-convert:hover {\n",
              "      background-color: #434B5C;\n",
              "      box-shadow: 0px 1px 3px 1px rgba(0, 0, 0, 0.15);\n",
              "      filter: drop-shadow(0px 1px 2px rgba(0, 0, 0, 0.3));\n",
              "      fill: #FFFFFF;\n",
              "    }\n",
              "  </style>\n",
              "\n",
              "    <script>\n",
              "      const buttonEl =\n",
              "        document.querySelector('#df-dbf9fb62-d2c3-4e14-a764-48d5fa263bfe button.colab-df-convert');\n",
              "      buttonEl.style.display =\n",
              "        google.colab.kernel.accessAllowed ? 'block' : 'none';\n",
              "\n",
              "      async function convertToInteractive(key) {\n",
              "        const element = document.querySelector('#df-dbf9fb62-d2c3-4e14-a764-48d5fa263bfe');\n",
              "        const dataTable =\n",
              "          await google.colab.kernel.invokeFunction('convertToInteractive',\n",
              "                                                    [key], {});\n",
              "        if (!dataTable) return;\n",
              "\n",
              "        const docLinkHtml = 'Like what you see? Visit the ' +\n",
              "          '<a target=\"_blank\" href=https://colab.research.google.com/notebooks/data_table.ipynb>data table notebook</a>'\n",
              "          + ' to learn more about interactive tables.';\n",
              "        element.innerHTML = '';\n",
              "        dataTable['output_type'] = 'display_data';\n",
              "        await google.colab.output.renderOutput(dataTable, element);\n",
              "        const docLink = document.createElement('div');\n",
              "        docLink.innerHTML = docLinkHtml;\n",
              "        element.appendChild(docLink);\n",
              "      }\n",
              "    </script>\n",
              "  </div>\n",
              "\n",
              "\n",
              "    <div id=\"df-22887dd8-833e-411c-9a60-e5e06b98bc67\">\n",
              "      <button class=\"colab-df-quickchart\" onclick=\"quickchart('df-22887dd8-833e-411c-9a60-e5e06b98bc67')\"\n",
              "                title=\"Suggest charts\"\n",
              "                style=\"display:none;\">\n",
              "\n",
              "<svg xmlns=\"http://www.w3.org/2000/svg\" height=\"24px\"viewBox=\"0 0 24 24\"\n",
              "     width=\"24px\">\n",
              "    <g>\n",
              "        <path d=\"M19 3H5c-1.1 0-2 .9-2 2v14c0 1.1.9 2 2 2h14c1.1 0 2-.9 2-2V5c0-1.1-.9-2-2-2zM9 17H7v-7h2v7zm4 0h-2V7h2v10zm4 0h-2v-4h2v4z\"/>\n",
              "    </g>\n",
              "</svg>\n",
              "      </button>\n",
              "\n",
              "<style>\n",
              "  .colab-df-quickchart {\n",
              "      --bg-color: #E8F0FE;\n",
              "      --fill-color: #1967D2;\n",
              "      --hover-bg-color: #E2EBFA;\n",
              "      --hover-fill-color: #174EA6;\n",
              "      --disabled-fill-color: #AAA;\n",
              "      --disabled-bg-color: #DDD;\n",
              "  }\n",
              "\n",
              "  [theme=dark] .colab-df-quickchart {\n",
              "      --bg-color: #3B4455;\n",
              "      --fill-color: #D2E3FC;\n",
              "      --hover-bg-color: #434B5C;\n",
              "      --hover-fill-color: #FFFFFF;\n",
              "      --disabled-bg-color: #3B4455;\n",
              "      --disabled-fill-color: #666;\n",
              "  }\n",
              "\n",
              "  .colab-df-quickchart {\n",
              "    background-color: var(--bg-color);\n",
              "    border: none;\n",
              "    border-radius: 50%;\n",
              "    cursor: pointer;\n",
              "    display: none;\n",
              "    fill: var(--fill-color);\n",
              "    height: 32px;\n",
              "    padding: 0;\n",
              "    width: 32px;\n",
              "  }\n",
              "\n",
              "  .colab-df-quickchart:hover {\n",
              "    background-color: var(--hover-bg-color);\n",
              "    box-shadow: 0 1px 2px rgba(60, 64, 67, 0.3), 0 1px 3px 1px rgba(60, 64, 67, 0.15);\n",
              "    fill: var(--button-hover-fill-color);\n",
              "  }\n",
              "\n",
              "  .colab-df-quickchart-complete:disabled,\n",
              "  .colab-df-quickchart-complete:disabled:hover {\n",
              "    background-color: var(--disabled-bg-color);\n",
              "    fill: var(--disabled-fill-color);\n",
              "    box-shadow: none;\n",
              "  }\n",
              "\n",
              "  .colab-df-spinner {\n",
              "    border: 2px solid var(--fill-color);\n",
              "    border-color: transparent;\n",
              "    border-bottom-color: var(--fill-color);\n",
              "    animation:\n",
              "      spin 1s steps(1) infinite;\n",
              "  }\n",
              "\n",
              "  @keyframes spin {\n",
              "    0% {\n",
              "      border-color: transparent;\n",
              "      border-bottom-color: var(--fill-color);\n",
              "      border-left-color: var(--fill-color);\n",
              "    }\n",
              "    20% {\n",
              "      border-color: transparent;\n",
              "      border-left-color: var(--fill-color);\n",
              "      border-top-color: var(--fill-color);\n",
              "    }\n",
              "    30% {\n",
              "      border-color: transparent;\n",
              "      border-left-color: var(--fill-color);\n",
              "      border-top-color: var(--fill-color);\n",
              "      border-right-color: var(--fill-color);\n",
              "    }\n",
              "    40% {\n",
              "      border-color: transparent;\n",
              "      border-right-color: var(--fill-color);\n",
              "      border-top-color: var(--fill-color);\n",
              "    }\n",
              "    60% {\n",
              "      border-color: transparent;\n",
              "      border-right-color: var(--fill-color);\n",
              "    }\n",
              "    80% {\n",
              "      border-color: transparent;\n",
              "      border-right-color: var(--fill-color);\n",
              "      border-bottom-color: var(--fill-color);\n",
              "    }\n",
              "    90% {\n",
              "      border-color: transparent;\n",
              "      border-bottom-color: var(--fill-color);\n",
              "    }\n",
              "  }\n",
              "</style>\n",
              "\n",
              "      <script>\n",
              "        async function quickchart(key) {\n",
              "          const quickchartButtonEl =\n",
              "            document.querySelector('#' + key + ' button');\n",
              "          quickchartButtonEl.disabled = true;  // To prevent multiple clicks.\n",
              "          quickchartButtonEl.classList.add('colab-df-spinner');\n",
              "          try {\n",
              "            const charts = await google.colab.kernel.invokeFunction(\n",
              "                'suggestCharts', [key], {});\n",
              "          } catch (error) {\n",
              "            console.error('Error during call to suggestCharts:', error);\n",
              "          }\n",
              "          quickchartButtonEl.classList.remove('colab-df-spinner');\n",
              "          quickchartButtonEl.classList.add('colab-df-quickchart-complete');\n",
              "        }\n",
              "        (() => {\n",
              "          let quickchartButtonEl =\n",
              "            document.querySelector('#df-22887dd8-833e-411c-9a60-e5e06b98bc67 button');\n",
              "          quickchartButtonEl.style.display =\n",
              "            google.colab.kernel.accessAllowed ? 'block' : 'none';\n",
              "        })();\n",
              "      </script>\n",
              "    </div>\n",
              "\n",
              "  <div id=\"id_39270d34-4591-4d01-8ee5-615035e4d93b\">\n",
              "    <style>\n",
              "      .colab-df-generate {\n",
              "        background-color: #E8F0FE;\n",
              "        border: none;\n",
              "        border-radius: 50%;\n",
              "        cursor: pointer;\n",
              "        display: none;\n",
              "        fill: #1967D2;\n",
              "        height: 32px;\n",
              "        padding: 0 0 0 0;\n",
              "        width: 32px;\n",
              "      }\n",
              "\n",
              "      .colab-df-generate:hover {\n",
              "        background-color: #E2EBFA;\n",
              "        box-shadow: 0px 1px 2px rgba(60, 64, 67, 0.3), 0px 1px 3px 1px rgba(60, 64, 67, 0.15);\n",
              "        fill: #174EA6;\n",
              "      }\n",
              "\n",
              "      [theme=dark] .colab-df-generate {\n",
              "        background-color: #3B4455;\n",
              "        fill: #D2E3FC;\n",
              "      }\n",
              "\n",
              "      [theme=dark] .colab-df-generate:hover {\n",
              "        background-color: #434B5C;\n",
              "        box-shadow: 0px 1px 3px 1px rgba(0, 0, 0, 0.15);\n",
              "        filter: drop-shadow(0px 1px 2px rgba(0, 0, 0, 0.3));\n",
              "        fill: #FFFFFF;\n",
              "      }\n",
              "    </style>\n",
              "    <button class=\"colab-df-generate\" onclick=\"generateWithVariable('df')\"\n",
              "            title=\"Generate code using this dataframe.\"\n",
              "            style=\"display:none;\">\n",
              "\n",
              "  <svg xmlns=\"http://www.w3.org/2000/svg\" height=\"24px\"viewBox=\"0 0 24 24\"\n",
              "       width=\"24px\">\n",
              "    <path d=\"M7,19H8.4L18.45,9,17,7.55,7,17.6ZM5,21V16.75L18.45,3.32a2,2,0,0,1,2.83,0l1.4,1.43a1.91,1.91,0,0,1,.58,1.4,1.91,1.91,0,0,1-.58,1.4L9.25,21ZM18.45,9,17,7.55Zm-12,3A5.31,5.31,0,0,0,4.9,8.1,5.31,5.31,0,0,0,1,6.5,5.31,5.31,0,0,0,4.9,4.9,5.31,5.31,0,0,0,6.5,1,5.31,5.31,0,0,0,8.1,4.9,5.31,5.31,0,0,0,12,6.5,5.46,5.46,0,0,0,6.5,12Z\"/>\n",
              "  </svg>\n",
              "    </button>\n",
              "    <script>\n",
              "      (() => {\n",
              "      const buttonEl =\n",
              "        document.querySelector('#id_39270d34-4591-4d01-8ee5-615035e4d93b button.colab-df-generate');\n",
              "      buttonEl.style.display =\n",
              "        google.colab.kernel.accessAllowed ? 'block' : 'none';\n",
              "\n",
              "      buttonEl.onclick = () => {\n",
              "        google.colab.notebook.generateWithVariable('df');\n",
              "      }\n",
              "      })();\n",
              "    </script>\n",
              "  </div>\n",
              "\n",
              "    </div>\n",
              "  </div>\n"
            ],
            "application/vnd.google.colaboratory.intrinsic+json": {
              "type": "dataframe",
              "variable_name": "df",
              "summary": "{\n  \"name\": \"df\",\n  \"rows\": 708,\n  \"fields\": [\n    {\n      \"column\": \"Student_ID\",\n      \"properties\": {\n        \"dtype\": \"string\",\n        \"num_unique_values\": 500,\n        \"samples\": [\n          \"S276\",\n          \"S200\",\n          \"S273\"\n        ],\n        \"semantic_type\": \"\",\n        \"description\": \"\"\n      }\n    },\n    {\n      \"column\": \"Gender\",\n      \"properties\": {\n        \"dtype\": \"category\",\n        \"num_unique_values\": 2,\n        \"samples\": [\n          \"Female\",\n          \"Male\"\n        ],\n        \"semantic_type\": \"\",\n        \"description\": \"\"\n      }\n    },\n    {\n      \"column\": \"Study_Hours_per_Week\",\n      \"properties\": {\n        \"dtype\": \"number\",\n        \"std\": 8,\n        \"min\": 10,\n        \"max\": 39,\n        \"num_unique_values\": 30,\n        \"samples\": [\n          33,\n          14\n        ],\n        \"semantic_type\": \"\",\n        \"description\": \"\"\n      }\n    },\n    {\n      \"column\": \"Attendance_Rate\",\n      \"properties\": {\n        \"dtype\": \"number\",\n        \"std\": 13.802801882804394,\n        \"min\": 50.11696953128892,\n        \"max\": 99.96767497829174,\n        \"num_unique_values\": 500,\n        \"samples\": [\n          86.30477930312003,\n          96.64690335499772\n        ],\n        \"semantic_type\": \"\",\n        \"description\": \"\"\n      }\n    },\n    {\n      \"column\": \"Past_Exam_Scores\",\n      \"properties\": {\n        \"dtype\": \"number\",\n        \"std\": 14,\n        \"min\": 50,\n        \"max\": 100,\n        \"num_unique_values\": 51,\n        \"samples\": [\n          75,\n          89\n        ],\n        \"semantic_type\": \"\",\n        \"description\": \"\"\n      }\n    },\n    {\n      \"column\": \"Parental_Education_Level\",\n      \"properties\": {\n        \"dtype\": \"category\",\n        \"num_unique_values\": 4,\n        \"samples\": [\n          \"PhD\",\n          \"Masters\"\n        ],\n        \"semantic_type\": \"\",\n        \"description\": \"\"\n      }\n    },\n    {\n      \"column\": \"Internet_Access_at_Home\",\n      \"properties\": {\n        \"dtype\": \"category\",\n        \"num_unique_values\": 2,\n        \"samples\": [\n          \"No\",\n          \"Yes\"\n        ],\n        \"semantic_type\": \"\",\n        \"description\": \"\"\n      }\n    },\n    {\n      \"column\": \"Extracurricular_Activities\",\n      \"properties\": {\n        \"dtype\": \"category\",\n        \"num_unique_values\": 2,\n        \"samples\": [\n          \"No\",\n          \"Yes\"\n        ],\n        \"semantic_type\": \"\",\n        \"description\": \"\"\n      }\n    },\n    {\n      \"column\": \"Final_Exam_Score\",\n      \"properties\": {\n        \"dtype\": \"number\",\n        \"std\": 6,\n        \"min\": 50,\n        \"max\": 77,\n        \"num_unique_values\": 27,\n        \"samples\": [\n          59,\n          71\n        ],\n        \"semantic_type\": \"\",\n        \"description\": \"\"\n      }\n    },\n    {\n      \"column\": \"Pass_Fail\",\n      \"properties\": {\n        \"dtype\": \"category\",\n        \"num_unique_values\": 2,\n        \"samples\": [\n          \"Fail\",\n          \"Pass\"\n        ],\n        \"semantic_type\": \"\",\n        \"description\": \"\"\n      }\n    }\n  ]\n}"
            }
          },
          "metadata": {},
          "execution_count": 5
        }
      ]
    },
    {
      "cell_type": "markdown",
      "source": [
        "Memuat dataset dan mengecek ukuran dataset"
      ],
      "metadata": {
        "id": "sXvfMpvoOmXB"
      }
    },
    {
      "cell_type": "code",
      "source": [
        "df.shape"
      ],
      "metadata": {
        "colab": {
          "base_uri": "https://localhost:8080/"
        },
        "id": "LZZq6ycgBCja",
        "outputId": "b8fb50a7-fb50-4960-9301-9aab68588c87"
      },
      "execution_count": 6,
      "outputs": [
        {
          "output_type": "execute_result",
          "data": {
            "text/plain": [
              "(708, 10)"
            ]
          },
          "metadata": {},
          "execution_count": 6
        }
      ]
    },
    {
      "cell_type": "markdown",
      "source": [
        "Hasil `(708, 10)` menunjukkan bahwa dataset memiliki:\n",
        "\n",
        "- 708 baris (rows): merepresentasikan jumlah observasi atau data siswa.\n",
        "- 10 kolom (columns): merepresentasikan fitur atau atribut yang tersedia untuk setiap observasi.\n"
      ],
      "metadata": {
        "id": "4YcD8xwmO1jV"
      }
    },
    {
      "cell_type": "markdown",
      "source": [
        "## **Data Feature**"
      ],
      "metadata": {
        "id": "ZmmbrNOYZ3K2"
      }
    },
    {
      "cell_type": "code",
      "source": [
        "df.info()"
      ],
      "metadata": {
        "colab": {
          "base_uri": "https://localhost:8080/"
        },
        "id": "I16kUb_SBGL9",
        "outputId": "76072c0a-f1a7-4beb-ee0a-628f4256c4f5"
      },
      "execution_count": 7,
      "outputs": [
        {
          "output_type": "stream",
          "name": "stdout",
          "text": [
            "<class 'pandas.core.frame.DataFrame'>\n",
            "RangeIndex: 708 entries, 0 to 707\n",
            "Data columns (total 10 columns):\n",
            " #   Column                      Non-Null Count  Dtype  \n",
            "---  ------                      --------------  -----  \n",
            " 0   Student_ID                  708 non-null    object \n",
            " 1   Gender                      708 non-null    object \n",
            " 2   Study_Hours_per_Week        708 non-null    int64  \n",
            " 3   Attendance_Rate             708 non-null    float64\n",
            " 4   Past_Exam_Scores            708 non-null    int64  \n",
            " 5   Parental_Education_Level    708 non-null    object \n",
            " 6   Internet_Access_at_Home     708 non-null    object \n",
            " 7   Extracurricular_Activities  708 non-null    object \n",
            " 8   Final_Exam_Score            708 non-null    int64  \n",
            " 9   Pass_Fail                   708 non-null    object \n",
            "dtypes: float64(1), int64(3), object(6)\n",
            "memory usage: 55.4+ KB\n"
          ]
        }
      ]
    },
    {
      "cell_type": "markdown",
      "source": [
        "Deskripsi fitur (kolom) :\n",
        "- `Student_ID` : Pengenal unik untuk setiap siswa.  \n",
        "- `Gender` : Jenis kelamin siswa (Pria / Wanita).  \n",
        "- `Study_Hours_per_Week` : Jumlah rata-rata jam belajar per minggu.  \n",
        "- `Attendance_Rate` : Persentase kehadiran siswa (50% - 100%).  \n",
        "- `Past_Exam_Scores` : Nilai rata-rata ujian sebelumnya (50 - 100).  \n",
        "- `Parental_Education_Level` : Tingkat pendidikan orang tua (SMA, S1, S2, `S3`).  \n",
        "- `Internet_Access_at_Home` : Akses internet di rumah (Ya / Tidak).  \n",
        "- `Extracurricular_Activities` : Keikutsertaan dalam kegiatan ekstrakurikuler (Ya` / `Tidak).  \n",
        "- `Final_Exam_Score`: Nilai ujian akhir siswa (50 - 100, bilangan bulat).  \n",
        "- `Pass_Fail` : Status kelulusan siswa (Lulus / Gagal). [Target]\n",
        "\n",
        "\n",
        "\n",
        "\n"
      ],
      "metadata": {
        "id": "-fPF30QXDVRy"
      }
    },
    {
      "cell_type": "markdown",
      "source": [
        "Menampilkan Statistik Deskriptif"
      ],
      "metadata": {
        "id": "yIKtC4-MQJLf"
      }
    },
    {
      "cell_type": "code",
      "source": [
        "df.describe()"
      ],
      "metadata": {
        "colab": {
          "base_uri": "https://localhost:8080/",
          "height": 300
        },
        "id": "GMit_beOF6Gv",
        "outputId": "bb1f7bdd-4391-4a4e-f164-014aedbf6db6"
      },
      "execution_count": 8,
      "outputs": [
        {
          "output_type": "execute_result",
          "data": {
            "text/plain": [
              "       Study_Hours_per_Week  Attendance_Rate  Past_Exam_Scores  \\\n",
              "count            708.000000       708.000000        708.000000   \n",
              "mean              26.132768        78.107722         77.871469   \n",
              "std                8.877727        13.802802         14.402739   \n",
              "min               10.000000        50.116970         50.000000   \n",
              "25%               19.000000        67.550094         65.000000   \n",
              "50%               27.000000        79.363046         79.000000   \n",
              "75%               34.000000        89.504232         91.000000   \n",
              "max               39.000000        99.967675        100.000000   \n",
              "\n",
              "       Final_Exam_Score  \n",
              "count        708.000000  \n",
              "mean          58.771186  \n",
              "std            6.705877  \n",
              "min           50.000000  \n",
              "25%           52.000000  \n",
              "50%           59.500000  \n",
              "75%           64.000000  \n",
              "max           77.000000  "
            ],
            "text/html": [
              "\n",
              "  <div id=\"df-6835eed1-10a3-4fb5-ad3e-3d584cb46f6a\" class=\"colab-df-container\">\n",
              "    <div>\n",
              "<style scoped>\n",
              "    .dataframe tbody tr th:only-of-type {\n",
              "        vertical-align: middle;\n",
              "    }\n",
              "\n",
              "    .dataframe tbody tr th {\n",
              "        vertical-align: top;\n",
              "    }\n",
              "\n",
              "    .dataframe thead th {\n",
              "        text-align: right;\n",
              "    }\n",
              "</style>\n",
              "<table border=\"1\" class=\"dataframe\">\n",
              "  <thead>\n",
              "    <tr style=\"text-align: right;\">\n",
              "      <th></th>\n",
              "      <th>Study_Hours_per_Week</th>\n",
              "      <th>Attendance_Rate</th>\n",
              "      <th>Past_Exam_Scores</th>\n",
              "      <th>Final_Exam_Score</th>\n",
              "    </tr>\n",
              "  </thead>\n",
              "  <tbody>\n",
              "    <tr>\n",
              "      <th>count</th>\n",
              "      <td>708.000000</td>\n",
              "      <td>708.000000</td>\n",
              "      <td>708.000000</td>\n",
              "      <td>708.000000</td>\n",
              "    </tr>\n",
              "    <tr>\n",
              "      <th>mean</th>\n",
              "      <td>26.132768</td>\n",
              "      <td>78.107722</td>\n",
              "      <td>77.871469</td>\n",
              "      <td>58.771186</td>\n",
              "    </tr>\n",
              "    <tr>\n",
              "      <th>std</th>\n",
              "      <td>8.877727</td>\n",
              "      <td>13.802802</td>\n",
              "      <td>14.402739</td>\n",
              "      <td>6.705877</td>\n",
              "    </tr>\n",
              "    <tr>\n",
              "      <th>min</th>\n",
              "      <td>10.000000</td>\n",
              "      <td>50.116970</td>\n",
              "      <td>50.000000</td>\n",
              "      <td>50.000000</td>\n",
              "    </tr>\n",
              "    <tr>\n",
              "      <th>25%</th>\n",
              "      <td>19.000000</td>\n",
              "      <td>67.550094</td>\n",
              "      <td>65.000000</td>\n",
              "      <td>52.000000</td>\n",
              "    </tr>\n",
              "    <tr>\n",
              "      <th>50%</th>\n",
              "      <td>27.000000</td>\n",
              "      <td>79.363046</td>\n",
              "      <td>79.000000</td>\n",
              "      <td>59.500000</td>\n",
              "    </tr>\n",
              "    <tr>\n",
              "      <th>75%</th>\n",
              "      <td>34.000000</td>\n",
              "      <td>89.504232</td>\n",
              "      <td>91.000000</td>\n",
              "      <td>64.000000</td>\n",
              "    </tr>\n",
              "    <tr>\n",
              "      <th>max</th>\n",
              "      <td>39.000000</td>\n",
              "      <td>99.967675</td>\n",
              "      <td>100.000000</td>\n",
              "      <td>77.000000</td>\n",
              "    </tr>\n",
              "  </tbody>\n",
              "</table>\n",
              "</div>\n",
              "    <div class=\"colab-df-buttons\">\n",
              "\n",
              "  <div class=\"colab-df-container\">\n",
              "    <button class=\"colab-df-convert\" onclick=\"convertToInteractive('df-6835eed1-10a3-4fb5-ad3e-3d584cb46f6a')\"\n",
              "            title=\"Convert this dataframe to an interactive table.\"\n",
              "            style=\"display:none;\">\n",
              "\n",
              "  <svg xmlns=\"http://www.w3.org/2000/svg\" height=\"24px\" viewBox=\"0 -960 960 960\">\n",
              "    <path d=\"M120-120v-720h720v720H120Zm60-500h600v-160H180v160Zm220 220h160v-160H400v160Zm0 220h160v-160H400v160ZM180-400h160v-160H180v160Zm440 0h160v-160H620v160ZM180-180h160v-160H180v160Zm440 0h160v-160H620v160Z\"/>\n",
              "  </svg>\n",
              "    </button>\n",
              "\n",
              "  <style>\n",
              "    .colab-df-container {\n",
              "      display:flex;\n",
              "      gap: 12px;\n",
              "    }\n",
              "\n",
              "    .colab-df-convert {\n",
              "      background-color: #E8F0FE;\n",
              "      border: none;\n",
              "      border-radius: 50%;\n",
              "      cursor: pointer;\n",
              "      display: none;\n",
              "      fill: #1967D2;\n",
              "      height: 32px;\n",
              "      padding: 0 0 0 0;\n",
              "      width: 32px;\n",
              "    }\n",
              "\n",
              "    .colab-df-convert:hover {\n",
              "      background-color: #E2EBFA;\n",
              "      box-shadow: 0px 1px 2px rgba(60, 64, 67, 0.3), 0px 1px 3px 1px rgba(60, 64, 67, 0.15);\n",
              "      fill: #174EA6;\n",
              "    }\n",
              "\n",
              "    .colab-df-buttons div {\n",
              "      margin-bottom: 4px;\n",
              "    }\n",
              "\n",
              "    [theme=dark] .colab-df-convert {\n",
              "      background-color: #3B4455;\n",
              "      fill: #D2E3FC;\n",
              "    }\n",
              "\n",
              "    [theme=dark] .colab-df-convert:hover {\n",
              "      background-color: #434B5C;\n",
              "      box-shadow: 0px 1px 3px 1px rgba(0, 0, 0, 0.15);\n",
              "      filter: drop-shadow(0px 1px 2px rgba(0, 0, 0, 0.3));\n",
              "      fill: #FFFFFF;\n",
              "    }\n",
              "  </style>\n",
              "\n",
              "    <script>\n",
              "      const buttonEl =\n",
              "        document.querySelector('#df-6835eed1-10a3-4fb5-ad3e-3d584cb46f6a button.colab-df-convert');\n",
              "      buttonEl.style.display =\n",
              "        google.colab.kernel.accessAllowed ? 'block' : 'none';\n",
              "\n",
              "      async function convertToInteractive(key) {\n",
              "        const element = document.querySelector('#df-6835eed1-10a3-4fb5-ad3e-3d584cb46f6a');\n",
              "        const dataTable =\n",
              "          await google.colab.kernel.invokeFunction('convertToInteractive',\n",
              "                                                    [key], {});\n",
              "        if (!dataTable) return;\n",
              "\n",
              "        const docLinkHtml = 'Like what you see? Visit the ' +\n",
              "          '<a target=\"_blank\" href=https://colab.research.google.com/notebooks/data_table.ipynb>data table notebook</a>'\n",
              "          + ' to learn more about interactive tables.';\n",
              "        element.innerHTML = '';\n",
              "        dataTable['output_type'] = 'display_data';\n",
              "        await google.colab.output.renderOutput(dataTable, element);\n",
              "        const docLink = document.createElement('div');\n",
              "        docLink.innerHTML = docLinkHtml;\n",
              "        element.appendChild(docLink);\n",
              "      }\n",
              "    </script>\n",
              "  </div>\n",
              "\n",
              "\n",
              "    <div id=\"df-fa509468-eaab-43b3-a4f7-c45512650ca2\">\n",
              "      <button class=\"colab-df-quickchart\" onclick=\"quickchart('df-fa509468-eaab-43b3-a4f7-c45512650ca2')\"\n",
              "                title=\"Suggest charts\"\n",
              "                style=\"display:none;\">\n",
              "\n",
              "<svg xmlns=\"http://www.w3.org/2000/svg\" height=\"24px\"viewBox=\"0 0 24 24\"\n",
              "     width=\"24px\">\n",
              "    <g>\n",
              "        <path d=\"M19 3H5c-1.1 0-2 .9-2 2v14c0 1.1.9 2 2 2h14c1.1 0 2-.9 2-2V5c0-1.1-.9-2-2-2zM9 17H7v-7h2v7zm4 0h-2V7h2v10zm4 0h-2v-4h2v4z\"/>\n",
              "    </g>\n",
              "</svg>\n",
              "      </button>\n",
              "\n",
              "<style>\n",
              "  .colab-df-quickchart {\n",
              "      --bg-color: #E8F0FE;\n",
              "      --fill-color: #1967D2;\n",
              "      --hover-bg-color: #E2EBFA;\n",
              "      --hover-fill-color: #174EA6;\n",
              "      --disabled-fill-color: #AAA;\n",
              "      --disabled-bg-color: #DDD;\n",
              "  }\n",
              "\n",
              "  [theme=dark] .colab-df-quickchart {\n",
              "      --bg-color: #3B4455;\n",
              "      --fill-color: #D2E3FC;\n",
              "      --hover-bg-color: #434B5C;\n",
              "      --hover-fill-color: #FFFFFF;\n",
              "      --disabled-bg-color: #3B4455;\n",
              "      --disabled-fill-color: #666;\n",
              "  }\n",
              "\n",
              "  .colab-df-quickchart {\n",
              "    background-color: var(--bg-color);\n",
              "    border: none;\n",
              "    border-radius: 50%;\n",
              "    cursor: pointer;\n",
              "    display: none;\n",
              "    fill: var(--fill-color);\n",
              "    height: 32px;\n",
              "    padding: 0;\n",
              "    width: 32px;\n",
              "  }\n",
              "\n",
              "  .colab-df-quickchart:hover {\n",
              "    background-color: var(--hover-bg-color);\n",
              "    box-shadow: 0 1px 2px rgba(60, 64, 67, 0.3), 0 1px 3px 1px rgba(60, 64, 67, 0.15);\n",
              "    fill: var(--button-hover-fill-color);\n",
              "  }\n",
              "\n",
              "  .colab-df-quickchart-complete:disabled,\n",
              "  .colab-df-quickchart-complete:disabled:hover {\n",
              "    background-color: var(--disabled-bg-color);\n",
              "    fill: var(--disabled-fill-color);\n",
              "    box-shadow: none;\n",
              "  }\n",
              "\n",
              "  .colab-df-spinner {\n",
              "    border: 2px solid var(--fill-color);\n",
              "    border-color: transparent;\n",
              "    border-bottom-color: var(--fill-color);\n",
              "    animation:\n",
              "      spin 1s steps(1) infinite;\n",
              "  }\n",
              "\n",
              "  @keyframes spin {\n",
              "    0% {\n",
              "      border-color: transparent;\n",
              "      border-bottom-color: var(--fill-color);\n",
              "      border-left-color: var(--fill-color);\n",
              "    }\n",
              "    20% {\n",
              "      border-color: transparent;\n",
              "      border-left-color: var(--fill-color);\n",
              "      border-top-color: var(--fill-color);\n",
              "    }\n",
              "    30% {\n",
              "      border-color: transparent;\n",
              "      border-left-color: var(--fill-color);\n",
              "      border-top-color: var(--fill-color);\n",
              "      border-right-color: var(--fill-color);\n",
              "    }\n",
              "    40% {\n",
              "      border-color: transparent;\n",
              "      border-right-color: var(--fill-color);\n",
              "      border-top-color: var(--fill-color);\n",
              "    }\n",
              "    60% {\n",
              "      border-color: transparent;\n",
              "      border-right-color: var(--fill-color);\n",
              "    }\n",
              "    80% {\n",
              "      border-color: transparent;\n",
              "      border-right-color: var(--fill-color);\n",
              "      border-bottom-color: var(--fill-color);\n",
              "    }\n",
              "    90% {\n",
              "      border-color: transparent;\n",
              "      border-bottom-color: var(--fill-color);\n",
              "    }\n",
              "  }\n",
              "</style>\n",
              "\n",
              "      <script>\n",
              "        async function quickchart(key) {\n",
              "          const quickchartButtonEl =\n",
              "            document.querySelector('#' + key + ' button');\n",
              "          quickchartButtonEl.disabled = true;  // To prevent multiple clicks.\n",
              "          quickchartButtonEl.classList.add('colab-df-spinner');\n",
              "          try {\n",
              "            const charts = await google.colab.kernel.invokeFunction(\n",
              "                'suggestCharts', [key], {});\n",
              "          } catch (error) {\n",
              "            console.error('Error during call to suggestCharts:', error);\n",
              "          }\n",
              "          quickchartButtonEl.classList.remove('colab-df-spinner');\n",
              "          quickchartButtonEl.classList.add('colab-df-quickchart-complete');\n",
              "        }\n",
              "        (() => {\n",
              "          let quickchartButtonEl =\n",
              "            document.querySelector('#df-fa509468-eaab-43b3-a4f7-c45512650ca2 button');\n",
              "          quickchartButtonEl.style.display =\n",
              "            google.colab.kernel.accessAllowed ? 'block' : 'none';\n",
              "        })();\n",
              "      </script>\n",
              "    </div>\n",
              "\n",
              "    </div>\n",
              "  </div>\n"
            ],
            "application/vnd.google.colaboratory.intrinsic+json": {
              "type": "dataframe",
              "summary": "{\n  \"name\": \"df\",\n  \"rows\": 8,\n  \"fields\": [\n    {\n      \"column\": \"Study_Hours_per_Week\",\n      \"properties\": {\n        \"dtype\": \"number\",\n        \"std\": 242.26386078074538,\n        \"min\": 8.877726668339886,\n        \"max\": 708.0,\n        \"num_unique_values\": 8,\n        \"samples\": [\n          26.13276836158192,\n          27.0,\n          708.0\n        ],\n        \"semantic_type\": \"\",\n        \"description\": \"\"\n      }\n    },\n    {\n      \"column\": \"Attendance_Rate\",\n      \"properties\": {\n        \"dtype\": \"number\",\n        \"std\": 227.71732373362843,\n        \"min\": 13.802801882804394,\n        \"max\": 708.0,\n        \"num_unique_values\": 8,\n        \"samples\": [\n          78.10772200742244,\n          79.36304570926603,\n          708.0\n        ],\n        \"semantic_type\": \"\",\n        \"description\": \"\"\n      }\n    },\n    {\n      \"column\": \"Past_Exam_Scores\",\n      \"properties\": {\n        \"dtype\": \"number\",\n        \"std\": 227.77590364281826,\n        \"min\": 14.40273939016608,\n        \"max\": 708.0,\n        \"num_unique_values\": 8,\n        \"samples\": [\n          77.87146892655367,\n          79.0,\n          708.0\n        ],\n        \"semantic_type\": \"\",\n        \"description\": \"\"\n      }\n    },\n    {\n      \"column\": \"Final_Exam_Score\",\n      \"properties\": {\n        \"dtype\": \"number\",\n        \"std\": 232.62982274224828,\n        \"min\": 6.7058770275915025,\n        \"max\": 708.0,\n        \"num_unique_values\": 8,\n        \"samples\": [\n          58.771186440677965,\n          59.5,\n          708.0\n        ],\n        \"semantic_type\": \"\",\n        \"description\": \"\"\n      }\n    }\n  ]\n}"
            }
          },
          "metadata": {},
          "execution_count": 8
        }
      ]
    },
    {
      "cell_type": "markdown",
      "source": [
        "1. `Study_Hours_per_Week`: Mayoritas siswa menghabiskan waktu belajar sekitar 26 jam per minggu, dengan sebagian besar berada di rentang 19 hingga 34 jam. Nilai minimum menunjukkan ada siswa yang hanya belajar selama 10 jam, sedangkan yang paling rajin bisa mencapai 39 jam per minggu. Ini menunjukkan adanya variasi kebiasaan belajar yang cukup signifikan antar siswa.\n",
        "\n",
        "2. `Attendance_Rate` : Rata-rata kehadiran siswa adalah sekitar 78%, dengan mayoritas siswa memiliki tingkat kehadiran antara 67% hingga 89%. Walaupun ada siswa dengan kehadiran mendekati sempurna (99,97%), masih terdapat pula siswa dengan tingkat kehadiran minimal sekitar 50%. Hal ini menunjukkan tingkat kedisiplinan siswa dalam mengikuti kegiatan belajar cukup beragam.\n",
        "\n",
        "3. `Past_Exam_Scores` : Secara umum, performa akademik siswa pada ujian-ujian sebelumnya cukup baik, dengan nilai rata-rata mendekati 78 dan nilai median sebesar 79. Sebagian besar siswa memiliki nilai di antara 65 hingga 91. Terdapat siswa yang berhasil memperoleh nilai sempurna (100), meskipun ada pula yang mendapatkan nilai minimum (50). Ini menandakan bahwa secara historis, banyak siswa memiliki potensi akademik yang tinggi.\n",
        "\n",
        "4. `Final_Exam_Score` : Berbeda dengan nilai ujian sebelumnya, rata-rata nilai ujian akhir hanya sekitar 58, dengan rentang nilai yang jauh lebih sempit (50–77) dan standar deviasi yang lebih kecil. Ini menunjukkan bahwa hasil ujian akhir cenderung lebih rendah dan lebih seragam dibandingkan ujian sebelumnya. Meskipun banyak siswa memiliki latar belakang akademik yang baik, nilai akhir ini menunjukkan adanya penurunan performa secara umum.\n"
      ],
      "metadata": {
        "id": "-zJfQ6u-ZcX7"
      }
    },
    {
      "cell_type": "markdown",
      "source": [
        "## **Data Checking**"
      ],
      "metadata": {
        "id": "r8S05HNKJXaE"
      }
    },
    {
      "cell_type": "markdown",
      "source": [
        "Deteksi Nilai yang Hilang/Kosong (Missing Values)"
      ],
      "metadata": {
        "id": "7lvH3YMgQeMG"
      }
    },
    {
      "cell_type": "code",
      "source": [
        "missing_values = df.isnull().sum()\n",
        "missing_values[missing_values > 0]"
      ],
      "metadata": {
        "colab": {
          "base_uri": "https://localhost:8080/",
          "height": 84
        },
        "id": "e7oDyTkHBKQJ",
        "outputId": "460d5029-fbe0-4059-d432-9e1fc4fabb1d"
      },
      "execution_count": 9,
      "outputs": [
        {
          "output_type": "execute_result",
          "data": {
            "text/plain": [
              "Series([], dtype: int64)"
            ],
            "text/html": [
              "<div>\n",
              "<style scoped>\n",
              "    .dataframe tbody tr th:only-of-type {\n",
              "        vertical-align: middle;\n",
              "    }\n",
              "\n",
              "    .dataframe tbody tr th {\n",
              "        vertical-align: top;\n",
              "    }\n",
              "\n",
              "    .dataframe thead th {\n",
              "        text-align: right;\n",
              "    }\n",
              "</style>\n",
              "<table border=\"1\" class=\"dataframe\">\n",
              "  <thead>\n",
              "    <tr style=\"text-align: right;\">\n",
              "      <th></th>\n",
              "      <th>0</th>\n",
              "    </tr>\n",
              "  </thead>\n",
              "  <tbody>\n",
              "  </tbody>\n",
              "</table>\n",
              "</div><br><label><b>dtype:</b> int64</label>"
            ]
          },
          "metadata": {},
          "execution_count": 9
        }
      ]
    },
    {
      "cell_type": "markdown",
      "source": [
        "Deteksi baris yang duplikat"
      ],
      "metadata": {
        "id": "BSyFJI6ZQzTd"
      }
    },
    {
      "cell_type": "code",
      "source": [
        "df.duplicated().sum()"
      ],
      "metadata": {
        "colab": {
          "base_uri": "https://localhost:8080/"
        },
        "id": "6QkHQ5qQJfCZ",
        "outputId": "013bf5db-98b6-46ae-e995-c3720eae13da"
      },
      "execution_count": 10,
      "outputs": [
        {
          "output_type": "execute_result",
          "data": {
            "text/plain": [
              "np.int64(208)"
            ]
          },
          "metadata": {},
          "execution_count": 10
        }
      ]
    },
    {
      "cell_type": "markdown",
      "source": [
        "Hasil `np.int64(208)` menunjukkan ada 208 baris data yang terdeteksi sebagai duplikat."
      ],
      "metadata": {
        "id": "dU7gAyH5RKTC"
      }
    },
    {
      "cell_type": "markdown",
      "source": [
        "## **Split Feature (Column) Type**"
      ],
      "metadata": {
        "id": "c9rqgf3qYmSe"
      }
    },
    {
      "cell_type": "markdown",
      "source": [
        "Memisahkan jenis kolom berdasarkan datanya"
      ],
      "metadata": {
        "id": "kr-xmanqcH7O"
      }
    },
    {
      "cell_type": "markdown",
      "source": [
        "Daftar nama-nama fitur (kolom) pada dataset"
      ],
      "metadata": {
        "id": "1M2K0FvfR3t5"
      }
    },
    {
      "cell_type": "code",
      "source": [
        "df.columns"
      ],
      "metadata": {
        "colab": {
          "base_uri": "https://localhost:8080/"
        },
        "id": "2E1I5qBGRj72",
        "outputId": "9b135417-c97a-4601-8bc4-b4249ceff7e4"
      },
      "execution_count": 11,
      "outputs": [
        {
          "output_type": "execute_result",
          "data": {
            "text/plain": [
              "Index(['Student_ID', 'Gender', 'Study_Hours_per_Week', 'Attendance_Rate',\n",
              "       'Past_Exam_Scores', 'Parental_Education_Level',\n",
              "       'Internet_Access_at_Home', 'Extracurricular_Activities',\n",
              "       'Final_Exam_Score', 'Pass_Fail'],\n",
              "      dtype='object')"
            ]
          },
          "metadata": {},
          "execution_count": 11
        }
      ]
    },
    {
      "cell_type": "markdown",
      "source": [
        "Daftar fitur (kolom) kategorikal"
      ],
      "metadata": {
        "id": "xa8I3o0bR_MZ"
      }
    },
    {
      "cell_type": "code",
      "source": [
        "categorical_cols = [\n",
        "    'Gender',\n",
        "    'Parental_Education_Level',\n",
        "    'Internet_Access_at_Home',\n",
        "    'Extracurricular_Activities',\n",
        "    'Pass_Fail'\n",
        "]"
      ],
      "metadata": {
        "id": "iRH7C_axX89e"
      },
      "execution_count": 12,
      "outputs": []
    },
    {
      "cell_type": "markdown",
      "source": [
        "Daftar fitur (kolom) numerik"
      ],
      "metadata": {
        "id": "Ddl4QGgJSFrs"
      }
    },
    {
      "cell_type": "code",
      "source": [
        "numerical_cols = [\n",
        "    'Study_Hours_per_Week',\n",
        "    'Attendance_Rate',\n",
        "    'Past_Exam_Scores',\n",
        "    'Final_Exam_Score'\n",
        "]"
      ],
      "metadata": {
        "id": "JXLN2AyRWu28"
      },
      "execution_count": 13,
      "outputs": []
    },
    {
      "cell_type": "markdown",
      "source": [
        "## **Data Visualization**"
      ],
      "metadata": {
        "id": "AkuQMzDub-mO"
      }
    },
    {
      "cell_type": "markdown",
      "source": [
        "**1. Visualisasi Fitur Numerik**"
      ],
      "metadata": {
        "id": "BMk6AJlnkpf8"
      }
    },
    {
      "cell_type": "markdown",
      "source": [
        "Menampilkan histogram dari seluruh fitur numerik dalam dataset, untuk melihat distribusi data masing-masing kolom."
      ],
      "metadata": {
        "id": "57hS0rCmSP8a"
      }
    },
    {
      "cell_type": "code",
      "source": [
        "n_cols = 4\n",
        "n_vars = len(numerical_cols)\n",
        "n_rows = -(-n_vars // n_cols)\n",
        "\n",
        "fig, axes = plt.subplots(n_rows, n_cols, figsize=(5 * n_cols, 4 * n_rows))\n",
        "axes = axes.flatten()\n",
        "\n",
        "for i, column in enumerate(numerical_cols):\n",
        "    sns.histplot(df[column], kde=True, ax=axes[i])\n",
        "    axes[i].set_xlabel(column)\n",
        "    axes[i].set_ylabel('Frekuensi')\n",
        "    axes[i].set_title(f'Distribusi {column}')\n",
        "\n",
        "for j in range(i + 1, len(axes)):\n",
        "    fig.delaxes(axes[j])\n",
        "\n",
        "plt.tight_layout()\n",
        "plt.show()"
      ],
      "metadata": {
        "colab": {
          "base_uri": "https://localhost:8080/",
          "height": 327
        },
        "id": "DqtjSk3YYF5B",
        "outputId": "9d506f14-44b9-442f-b6c6-64665c523d34"
      },
      "execution_count": 14,
      "outputs": [
        {
          "output_type": "display_data",
          "data": {
            "text/plain": [
              "<Figure size 2000x400 with 4 Axes>"
            ],
            "image/png": "[encoded data removed]"
          },
          "metadata": {}
        }
      ]
    },
    {
      "cell_type": "markdown",
      "source": [
        "Distribusi hasil visualisasi:\n",
        "-  `Study_Hours_per_Week` : Distribusi menunjukkan sebagian besar siswa belajar antara 30–40 jam per minggu. Sebagian besar siswa memiliki waktu belajar mingguan yang tinggi.\n",
        "- `Attendance_Rate` : Distribusi relatif merata, tetapi ada konsentrasi tinggi di kisaran 80–100%. Mayoritas siswa memiliki tingkat kehadiran tinggi, menunjukkan disiplin yang cukup baik dalam mengikuti kelas.\n",
        "- `Past_Exam_Scores` : Distribusi sedikit condong ke kiri (negatif skewed, dengan banyak siswa mendapat nilai ujian sebelumnya tinggi (80–100). Rata-rata siswa memiliki performa akademik yang baik pada ujian sebelumnya.\n",
        "- `Final_Exam_Score` : Distribusi sangat condong ke kanan (positif skewed), menunjukkan mayoritas siswa mendapatkan nilai ujian akhir yang rendah, yakni antara 50–65. Sangat sedikit siswa yang mendapat nilai di atas 70. Terdapat penurunan performa pada ujian akhir, meskipun performa sebelumnya tinggi."
      ],
      "metadata": {
        "id": "AdnxvWEpSZa0"
      }
    },
    {
      "cell_type": "markdown",
      "source": [
        "**2. Visualisasi Nilai Outlier Fitur Numerik**"
      ],
      "metadata": {
        "id": "jT2mPwLvSv8R"
      }
    },
    {
      "cell_type": "markdown",
      "source": [
        "Memberikan gambaran tentang nilai sebaran data (outlier) untuk masing-masing variabel numerik."
      ],
      "metadata": {
        "id": "BGgyb_l7S4mA"
      }
    },
    {
      "cell_type": "code",
      "source": [
        "n_cols = 4\n",
        "n_vars = len(numerical_cols)\n",
        "n_rows = -(-n_vars // n_cols)\n",
        "\n",
        "fig, axes = plt.subplots(n_rows, n_cols, figsize=(5 * n_cols, 4 * n_rows))\n",
        "axes = axes.flatten()\n",
        "\n",
        "for i, column in enumerate(numerical_cols):\n",
        "    sns.boxplot(y=df[column], ax=axes[i])\n",
        "    axes[i].set_title(f'Distribusi {column}')\n",
        "    axes[i].set_xlabel('')\n",
        "    axes[i].set_ylabel(column)\n",
        "\n",
        "for j in range(i + 1, len(axes)):\n",
        "    fig.delaxes(axes[j])\n",
        "\n",
        "plt.tight_layout()\n",
        "plt.show()"
      ],
      "metadata": {
        "colab": {
          "base_uri": "https://localhost:8080/",
          "height": 327
        },
        "id": "_nkYgJF4bltx",
        "outputId": "d377efce-ae06-4cfb-de21-9f5deb7583f4"
      },
      "execution_count": 15,
      "outputs": [
        {
          "output_type": "display_data",
          "data": {
            "text/plain": [
              "<Figure size 2000x400 with 4 Axes>"
            ],
            "image/png": "[encoded data removed]"
          },
          "metadata": {}
        }
      ]
    },
    {
      "cell_type": "markdown",
      "source": [
        "Distribusi hasil :\n",
        "- Distribusi nilai cukup normal dan simetris.\n",
        "- Tidak ada outlier ekstrem yang terdeteksi dalam fitur-fitur ini, yang menunjukkan bahwa data relatif bersih dari nilai-nilai ekstrem yang jauh berbeda dari mayoritas data."
      ],
      "metadata": {
        "id": "-xrpKf_pTA2d"
      }
    },
    {
      "cell_type": "markdown",
      "source": [
        "**3. Visualisasi Fitur Kategorikal**"
      ],
      "metadata": {
        "id": "_qH_fe-QTGuN"
      }
    },
    {
      "cell_type": "markdown",
      "source": [
        "Memvisualisasikan distribusi frekuensi dari setiap fitur kategorikal dalam dataset untuk memahami jumlah atau proporsi setiap kategori dari fitur-fitur tersebut, memberikan gambaran awal tentang komposisi data kategorikal."
      ],
      "metadata": {
        "id": "FP7gpR0_TJ90"
      }
    },
    {
      "cell_type": "code",
      "source": [
        "categorical_orders = {col: df[col].value_counts().index.tolist() for col in categorical_cols}\n",
        "\n",
        "# Setup layout grid\n",
        "n_cols = 3\n",
        "n_vars = len(categorical_cols)\n",
        "n_rows = -(-n_vars // n_cols)  # Pembulatan ke atas\n",
        "\n",
        "# Buat subplot\n",
        "fig, axes = plt.subplots(n_rows, n_cols, figsize=(6 * n_cols, 4.5 * n_rows))\n",
        "axes = axes.flatten()\n",
        "\n",
        "# Plot countplot untuk setiap kolom kategorikal\n",
        "for i, column in enumerate(categorical_cols):\n",
        "    sns.countplot(\n",
        "        data=df,\n",
        "        x=column,\n",
        "        order=categorical_orders[column],\n",
        "        hue=column,               # Tambahkan hue agar tidak warning\n",
        "        palette=\"Blues\",          # Elegan dan kalem\n",
        "        legend=False,\n",
        "        ax=axes[i]\n",
        "    )\n",
        "\n",
        "    axes[i].set_title(f'Distribusi {column}', fontweight='bold', color='black')\n",
        "    axes[i].set_xlabel(column, fontsize=12)\n",
        "    axes[i].set_ylabel('Jumlah', fontsize=12)\n",
        "    axes[i].tick_params(axis='x', rotation=60, labelsize=10)\n",
        "    axes[i].tick_params(axis='y', labelsize=10)\n",
        "\n",
        "# Hapus subplot kosong jika ada\n",
        "for j in range(i + 1, len(axes)):\n",
        "    fig.delaxes(axes[j])\n",
        "\n",
        "plt.tight_layout()\n",
        "plt.show()\n"
      ],
      "metadata": {
        "id": "ReqnpwCbdjfw",
        "colab": {
          "base_uri": "https://localhost:8080/",
          "height": 805
        },
        "outputId": "0e07a385-525b-4e7b-f027-b0760ccba568"
      },
      "execution_count": 16,
      "outputs": [
        {
          "output_type": "display_data",
          "data": {
            "text/plain": [
              "<Figure size 1800x900 with 5 Axes>"
            ],
            "image/png": "[encoded data removed]"
          },
          "metadata": {}
        }
      ]
    },
    {
      "cell_type": "markdown",
      "source": [
        "Distribusi hasil visualisasi:\n",
        "- `Gender` : Menunjukkan bahwa jumlah perempuan (Female) sedikit lebih banyak dibandingkan laki-laki (Male). Jadi, distribusi gender cukup seimbang, tetapi perempuan sedikit mendominasi dalam data ini.\n",
        "- `Parental_Education_Level` : Sebagian besar orang tua memiliki pendidikan tingkat Bachelor dan High School. Jumlah orang tua dengan gelar PhD yang paling sedikit. Mayoritas siswa berasal dari keluarga dengan latar belakang pendidikan menengah hingga sarjana.\n",
        "- `Internet_Access_at_Home` : Mayoritas siswa tidak memiliki akses internet di rumah, sedikit lebih banyak daripada yang memiliki.\n",
        "- `Extracurricular_Activities` : Jumlah siswa yang tidak mengikuti kegiatan ekstrakurikuler sedikit lebih banyak daripada yang mengikuti. Keterlibatan dalam aktivitas ekstrakurikuler cukup berimbang, dengan sedikit kecenderungan untuk tidak ikut.\n",
        "- `Pass_Fail`: Jumlah siswa yang lulus (Pass) hampir sama dengan yang gagal (Fail). Performa akademik siswa cukup seimbang antara yang berhasil dan tidak berhasil."
      ],
      "metadata": {
        "id": "mfMl3lwXTSW4"
      }
    },
    {
      "cell_type": "markdown",
      "source": [
        "**4. Visualisasi Matriks Korelasi Fitur Numerik**"
      ],
      "metadata": {
        "id": "lwcml9gSTe_0"
      }
    },
    {
      "cell_type": "markdown",
      "source": [
        "Menganalisis hubungan linier antar fitur numerik dalam dataset untuk mengidentifikasi fitur yang memiliki hubungan positif kuat, negatif kuat, atau hampir tidak ada hubungan sama sekali."
      ],
      "metadata": {
        "id": "J6hQ40pBTf0M"
      }
    },
    {
      "cell_type": "code",
      "source": [
        "numerical_corr = df[numerical_cols].corr()\n",
        "plt.figure(figsize=(9,6))\n",
        "sns.heatmap(numerical_corr, annot=True, cmap=\"coolwarm\",fmt=\".2f\",vmin=-0.2, vmax=1, linewidths=0.5)\n",
        "plt.title(\"Matriks Korelasi Antar Variabel Numerik\",fontweight='bold')\n",
        "plt.xticks(rotation=90,fontsize=10)\n",
        "plt.yticks(rotation=0, fontsize=10)\n",
        "plt.tight_layout()\n",
        "plt.show()\n"
      ],
      "metadata": {
        "colab": {
          "base_uri": "https://localhost:8080/",
          "height": 607
        },
        "id": "sF8Jv37JqQE-",
        "outputId": "58d20373-9ed4-4694-8b61-ea2200a82689"
      },
      "execution_count": 17,
      "outputs": [
        {
          "output_type": "display_data",
          "data": {
            "text/plain": [
              "<Figure size 900x600 with 2 Axes>"
            ],
            "image/png": "[encoded data removed]"
          },
          "metadata": {}
        }
      ]
    },
    {
      "cell_type": "markdown",
      "source": [
        "Distribusi hasil :\n",
        "- Secara visual dan numerik mengkonfirmasi hubungan antar fitur, menyoroti faktor-faktor yang berpotensi memengaruhi `Final_Exam_Score`.\n",
        "- Hasil menunjukkan bahwa `Past_Exam_Scores` dan `Attendance_Rate` adalah prediktor yang cukup baik untuk `Final_Exam_Score`, karena keduanya memiliki korelasi positif sedang."
      ],
      "metadata": {
        "id": "ahPfTWkXTkCA"
      }
    },
    {
      "cell_type": "markdown",
      "source": [
        "## **Data Preparation**"
      ],
      "metadata": {
        "id": "lBBDSR8rVTbV"
      }
    },
    {
      "cell_type": "markdown",
      "source": [
        "**Data Cleaning**"
      ],
      "metadata": {
        "id": "8Ae5dWH6MMvY"
      }
    },
    {
      "cell_type": "markdown",
      "source": [
        "Menghapus semua baris yang terdeteksi duplikat"
      ],
      "metadata": {
        "id": "fubAKoNmRSH7"
      }
    },
    {
      "cell_type": "code",
      "source": [
        "df = df.drop_duplicates()"
      ],
      "metadata": {
        "id": "daopHLyYIs1y"
      },
      "execution_count": 18,
      "outputs": []
    },
    {
      "cell_type": "markdown",
      "source": [
        "Menghapus kolom `Student_ID`"
      ],
      "metadata": {
        "id": "AFNmowciMqyq"
      }
    },
    {
      "cell_type": "code",
      "source": [
        "df.drop(columns=['Student_ID'], inplace=True)"
      ],
      "metadata": {
        "colab": {
          "base_uri": "https://localhost:8080/"
        },
        "id": "9kfEI2C-Oj61",
        "outputId": "c78fe924-43fc-4cbe-e7bc-df844376addc"
      },
      "execution_count": 19,
      "outputs": [
        {
          "output_type": "stream",
          "name": "stderr",
          "text": [
            "<ipython-input-19-46903fbf5e41>:1: SettingWithCopyWarning: \n",
            "A value is trying to be set on a copy of a slice from a DataFrame\n",
            "\n",
            "See the caveats in the documentation: https://pandas.pydata.org/pandas-docs/stable/user_guide/indexing.html#returning-a-view-versus-a-copy\n",
            "  df.drop(columns=['Student_ID'], inplace=True)\n"
          ]
        }
      ]
    },
    {
      "cell_type": "markdown",
      "source": [
        "Kolom `Student_ID` bertipe data string sebagai pengenal unik siswa, jadi tidak termasuk jenis kolom numerikal ataupun kategorikal. Karena kolom `Student_ID` tidak digunakan, maka kolom tersebut dihapus."
      ],
      "metadata": {
        "id": "Se9zSAjLYVLC"
      }
    },
    {
      "cell_type": "markdown",
      "source": [
        "**Encoding Fitur kategorikal**"
      ],
      "metadata": {
        "id": "S0ytWbpPT1aP"
      }
    },
    {
      "cell_type": "markdown",
      "source": [
        "Mengubah fitur kategorikal menjadi format numerik yang dapat diproses oleh algoritma machine learning. Dengan menggunakan `LabelEncoder`, setiap kategori unik dalam suatu kolom direpresentasikan sebagai bilangan bulat.\n"
      ],
      "metadata": {
        "id": "Pyu8vU7TT5Wc"
      }
    },
    {
      "cell_type": "code",
      "source": [
        "df_encoded = df.copy()\n",
        "categorical_cols = ['Gender', 'Parental_Education_Level', 'Internet_Access_at_Home',\n",
        "                    'Extracurricular_Activities', 'Pass_Fail']\n",
        "\n",
        "# Melakukan encoding dengan LabelEncoder\n",
        "label_encoders = {}\n",
        "for col in categorical_cols:\n",
        "    le = LabelEncoder()\n",
        "    df_encoded[col] = le.fit_transform(df_encoded[col])\n",
        "    label_encoders[col] = le\n",
        "\n",
        "df_encoded.head()"
      ],
      "metadata": {
        "colab": {
          "base_uri": "https://localhost:8080/",
          "height": 206
        },
        "id": "ij0zfYEf3lru",
        "outputId": "9e06fbd6-14c0-4066-e051-db430778eb76"
      },
      "execution_count": 20,
      "outputs": [
        {
          "output_type": "execute_result",
          "data": {
            "text/plain": [
              "   Gender  Study_Hours_per_Week  Attendance_Rate  Past_Exam_Scores  \\\n",
              "0       1                    31        68.267841                86   \n",
              "1       1                    16        78.222927                73   \n",
              "2       0                    21        87.525096                74   \n",
              "3       0                    27        92.076483                99   \n",
              "4       0                    37        98.655517                63   \n",
              "\n",
              "   Parental_Education_Level  Internet_Access_at_Home  \\\n",
              "0                         1                        1   \n",
              "1                         3                        0   \n",
              "2                         3                        1   \n",
              "3                         0                        0   \n",
              "4                         2                        0   \n",
              "\n",
              "   Extracurricular_Activities  Final_Exam_Score  Pass_Fail  \n",
              "0                           1                63          1  \n",
              "1                           0                50          0  \n",
              "2                           0                55          0  \n",
              "3                           0                65          1  \n",
              "4                           1                70          1  "
            ],
            "text/html": [
              "\n",
              "  <div id=\"df-fbb53605-0065-40ce-93e7-5133f884a74e\" class=\"colab-df-container\">\n",
              "    <div>\n",
              "<style scoped>\n",
              "    .dataframe tbody tr th:only-of-type {\n",
              "        vertical-align: middle;\n",
              "    }\n",
              "\n",
              "    .dataframe tbody tr th {\n",
              "        vertical-align: top;\n",
              "    }\n",
              "\n",
              "    .dataframe thead th {\n",
              "        text-align: right;\n",
              "    }\n",
              "</style>\n",
              "<table border=\"1\" class=\"dataframe\">\n",
              "  <thead>\n",
              "    <tr style=\"text-align: right;\">\n",
              "      <th></th>\n",
              "      <th>Gender</th>\n",
              "      <th>Study_Hours_per_Week</th>\n",
              "      <th>Attendance_Rate</th>\n",
              "      <th>Past_Exam_Scores</th>\n",
              "      <th>Parental_Education_Level</th>\n",
              "      <th>Internet_Access_at_Home</th>\n",
              "      <th>Extracurricular_Activities</th>\n",
              "      <th>Final_Exam_Score</th>\n",
              "      <th>Pass_Fail</th>\n",
              "    </tr>\n",
              "  </thead>\n",
              "  <tbody>\n",
              "    <tr>\n",
              "      <th>0</th>\n",
              "      <td>1</td>\n",
              "      <td>31</td>\n",
              "      <td>68.267841</td>\n",
              "      <td>86</td>\n",
              "      <td>1</td>\n",
              "      <td>1</td>\n",
              "      <td>1</td>\n",
              "      <td>63</td>\n",
              "      <td>1</td>\n",
              "    </tr>\n",
              "    <tr>\n",
              "      <th>1</th>\n",
              "      <td>1</td>\n",
              "      <td>16</td>\n",
              "      <td>78.222927</td>\n",
              "      <td>73</td>\n",
              "      <td>3</td>\n",
              "      <td>0</td>\n",
              "      <td>0</td>\n",
              "      <td>50</td>\n",
              "      <td>0</td>\n",
              "    </tr>\n",
              "    <tr>\n",
              "      <th>2</th>\n",
              "      <td>0</td>\n",
              "      <td>21</td>\n",
              "      <td>87.525096</td>\n",
              "      <td>74</td>\n",
              "      <td>3</td>\n",
              "      <td>1</td>\n",
              "      <td>0</td>\n",
              "      <td>55</td>\n",
              "      <td>0</td>\n",
              "    </tr>\n",
              "    <tr>\n",
              "      <th>3</th>\n",
              "      <td>0</td>\n",
              "      <td>27</td>\n",
              "      <td>92.076483</td>\n",
              "      <td>99</td>\n",
              "      <td>0</td>\n",
              "      <td>0</td>\n",
              "      <td>0</td>\n",
              "      <td>65</td>\n",
              "      <td>1</td>\n",
              "    </tr>\n",
              "    <tr>\n",
              "      <th>4</th>\n",
              "      <td>0</td>\n",
              "      <td>37</td>\n",
              "      <td>98.655517</td>\n",
              "      <td>63</td>\n",
              "      <td>2</td>\n",
              "      <td>0</td>\n",
              "      <td>1</td>\n",
              "      <td>70</td>\n",
              "      <td>1</td>\n",
              "    </tr>\n",
              "  </tbody>\n",
              "</table>\n",
              "</div>\n",
              "    <div class=\"colab-df-buttons\">\n",
              "\n",
              "  <div class=\"colab-df-container\">\n",
              "    <button class=\"colab-df-convert\" onclick=\"convertToInteractive('df-fbb53605-0065-40ce-93e7-5133f884a74e')\"\n",
              "            title=\"Convert this dataframe to an interactive table.\"\n",
              "            style=\"display:none;\">\n",
              "\n",
              "  <svg xmlns=\"http://www.w3.org/2000/svg\" height=\"24px\" viewBox=\"0 -960 960 960\">\n",
              "    <path d=\"M120-120v-720h720v720H120Zm60-500h600v-160H180v160Zm220 220h160v-160H400v160Zm0 220h160v-160H400v160ZM180-400h160v-160H180v160Zm440 0h160v-160H620v160ZM180-180h160v-160H180v160Zm440 0h160v-160H620v160Z\"/>\n",
              "  </svg>\n",
              "    </button>\n",
              "\n",
              "  <style>\n",
              "    .colab-df-container {\n",
              "      display:flex;\n",
              "      gap: 12px;\n",
              "    }\n",
              "\n",
              "    .colab-df-convert {\n",
              "      background-color: #E8F0FE;\n",
              "      border: none;\n",
              "      border-radius: 50%;\n",
              "      cursor: pointer;\n",
              "      display: none;\n",
              "      fill: #1967D2;\n",
              "      height: 32px;\n",
              "      padding: 0 0 0 0;\n",
              "      width: 32px;\n",
              "    }\n",
              "\n",
              "    .colab-df-convert:hover {\n",
              "      background-color: #E2EBFA;\n",
              "      box-shadow: 0px 1px 2px rgba(60, 64, 67, 0.3), 0px 1px 3px 1px rgba(60, 64, 67, 0.15);\n",
              "      fill: #174EA6;\n",
              "    }\n",
              "\n",
              "    .colab-df-buttons div {\n",
              "      margin-bottom: 4px;\n",
              "    }\n",
              "\n",
              "    [theme=dark] .colab-df-convert {\n",
              "      background-color: #3B4455;\n",
              "      fill: #D2E3FC;\n",
              "    }\n",
              "\n",
              "    [theme=dark] .colab-df-convert:hover {\n",
              "      background-color: #434B5C;\n",
              "      box-shadow: 0px 1px 3px 1px rgba(0, 0, 0, 0.15);\n",
              "      filter: drop-shadow(0px 1px 2px rgba(0, 0, 0, 0.3));\n",
              "      fill: #FFFFFF;\n",
              "    }\n",
              "  </style>\n",
              "\n",
              "    <script>\n",
              "      const buttonEl =\n",
              "        document.querySelector('#df-fbb53605-0065-40ce-93e7-5133f884a74e button.colab-df-convert');\n",
              "      buttonEl.style.display =\n",
              "        google.colab.kernel.accessAllowed ? 'block' : 'none';\n",
              "\n",
              "      async function convertToInteractive(key) {\n",
              "        const element = document.querySelector('#df-fbb53605-0065-40ce-93e7-5133f884a74e');\n",
              "        const dataTable =\n",
              "          await google.colab.kernel.invokeFunction('convertToInteractive',\n",
              "                                                    [key], {});\n",
              "        if (!dataTable) return;\n",
              "\n",
              "        const docLinkHtml = 'Like what you see? Visit the ' +\n",
              "          '<a target=\"_blank\" href=https://colab.research.google.com/notebooks/data_table.ipynb>data table notebook</a>'\n",
              "          + ' to learn more about interactive tables.';\n",
              "        element.innerHTML = '';\n",
              "        dataTable['output_type'] = 'display_data';\n",
              "        await google.colab.output.renderOutput(dataTable, element);\n",
              "        const docLink = document.createElement('div');\n",
              "        docLink.innerHTML = docLinkHtml;\n",
              "        element.appendChild(docLink);\n",
              "      }\n",
              "    </script>\n",
              "  </div>\n",
              "\n",
              "\n",
              "    <div id=\"df-94b5945b-9f14-4a50-adc1-693f32533c09\">\n",
              "      <button class=\"colab-df-quickchart\" onclick=\"quickchart('df-94b5945b-9f14-4a50-adc1-693f32533c09')\"\n",
              "                title=\"Suggest charts\"\n",
              "                style=\"display:none;\">\n",
              "\n",
              "<svg xmlns=\"http://www.w3.org/2000/svg\" height=\"24px\"viewBox=\"0 0 24 24\"\n",
              "     width=\"24px\">\n",
              "    <g>\n",
              "        <path d=\"M19 3H5c-1.1 0-2 .9-2 2v14c0 1.1.9 2 2 2h14c1.1 0 2-.9 2-2V5c0-1.1-.9-2-2-2zM9 17H7v-7h2v7zm4 0h-2V7h2v10zm4 0h-2v-4h2v4z\"/>\n",
              "    </g>\n",
              "</svg>\n",
              "      </button>\n",
              "\n",
              "<style>\n",
              "  .colab-df-quickchart {\n",
              "      --bg-color: #E8F0FE;\n",
              "      --fill-color: #1967D2;\n",
              "      --hover-bg-color: #E2EBFA;\n",
              "      --hover-fill-color: #174EA6;\n",
              "      --disabled-fill-color: #AAA;\n",
              "      --disabled-bg-color: #DDD;\n",
              "  }\n",
              "\n",
              "  [theme=dark] .colab-df-quickchart {\n",
              "      --bg-color: #3B4455;\n",
              "      --fill-color: #D2E3FC;\n",
              "      --hover-bg-color: #434B5C;\n",
              "      --hover-fill-color: #FFFFFF;\n",
              "      --disabled-bg-color: #3B4455;\n",
              "      --disabled-fill-color: #666;\n",
              "  }\n",
              "\n",
              "  .colab-df-quickchart {\n",
              "    background-color: var(--bg-color);\n",
              "    border: none;\n",
              "    border-radius: 50%;\n",
              "    cursor: pointer;\n",
              "    display: none;\n",
              "    fill: var(--fill-color);\n",
              "    height: 32px;\n",
              "    padding: 0;\n",
              "    width: 32px;\n",
              "  }\n",
              "\n",
              "  .colab-df-quickchart:hover {\n",
              "    background-color: var(--hover-bg-color);\n",
              "    box-shadow: 0 1px 2px rgba(60, 64, 67, 0.3), 0 1px 3px 1px rgba(60, 64, 67, 0.15);\n",
              "    fill: var(--button-hover-fill-color);\n",
              "  }\n",
              "\n",
              "  .colab-df-quickchart-complete:disabled,\n",
              "  .colab-df-quickchart-complete:disabled:hover {\n",
              "    background-color: var(--disabled-bg-color);\n",
              "    fill: var(--disabled-fill-color);\n",
              "    box-shadow: none;\n",
              "  }\n",
              "\n",
              "  .colab-df-spinner {\n",
              "    border: 2px solid var(--fill-color);\n",
              "    border-color: transparent;\n",
              "    border-bottom-color: var(--fill-color);\n",
              "    animation:\n",
              "      spin 1s steps(1) infinite;\n",
              "  }\n",
              "\n",
              "  @keyframes spin {\n",
              "    0% {\n",
              "      border-color: transparent;\n",
              "      border-bottom-color: var(--fill-color);\n",
              "      border-left-color: var(--fill-color);\n",
              "    }\n",
              "    20% {\n",
              "      border-color: transparent;\n",
              "      border-left-color: var(--fill-color);\n",
              "      border-top-color: var(--fill-color);\n",
              "    }\n",
              "    30% {\n",
              "      border-color: transparent;\n",
              "      border-left-color: var(--fill-color);\n",
              "      border-top-color: var(--fill-color);\n",
              "      border-right-color: var(--fill-color);\n",
              "    }\n",
              "    40% {\n",
              "      border-color: transparent;\n",
              "      border-right-color: var(--fill-color);\n",
              "      border-top-color: var(--fill-color);\n",
              "    }\n",
              "    60% {\n",
              "      border-color: transparent;\n",
              "      border-right-color: var(--fill-color);\n",
              "    }\n",
              "    80% {\n",
              "      border-color: transparent;\n",
              "      border-right-color: var(--fill-color);\n",
              "      border-bottom-color: var(--fill-color);\n",
              "    }\n",
              "    90% {\n",
              "      border-color: transparent;\n",
              "      border-bottom-color: var(--fill-color);\n",
              "    }\n",
              "  }\n",
              "</style>\n",
              "\n",
              "      <script>\n",
              "        async function quickchart(key) {\n",
              "          const quickchartButtonEl =\n",
              "            document.querySelector('#' + key + ' button');\n",
              "          quickchartButtonEl.disabled = true;  // To prevent multiple clicks.\n",
              "          quickchartButtonEl.classList.add('colab-df-spinner');\n",
              "          try {\n",
              "            const charts = await google.colab.kernel.invokeFunction(\n",
              "                'suggestCharts', [key], {});\n",
              "          } catch (error) {\n",
              "            console.error('Error during call to suggestCharts:', error);\n",
              "          }\n",
              "          quickchartButtonEl.classList.remove('colab-df-spinner');\n",
              "          quickchartButtonEl.classList.add('colab-df-quickchart-complete');\n",
              "        }\n",
              "        (() => {\n",
              "          let quickchartButtonEl =\n",
              "            document.querySelector('#df-94b5945b-9f14-4a50-adc1-693f32533c09 button');\n",
              "          quickchartButtonEl.style.display =\n",
              "            google.colab.kernel.accessAllowed ? 'block' : 'none';\n",
              "        })();\n",
              "      </script>\n",
              "    </div>\n",
              "\n",
              "    </div>\n",
              "  </div>\n"
            ],
            "application/vnd.google.colaboratory.intrinsic+json": {
              "type": "dataframe",
              "variable_name": "df_encoded",
              "summary": "{\n  \"name\": \"df_encoded\",\n  \"rows\": 500,\n  \"fields\": [\n    {\n      \"column\": \"Gender\",\n      \"properties\": {\n        \"dtype\": \"number\",\n        \"std\": 0,\n        \"min\": 0,\n        \"max\": 1,\n        \"num_unique_values\": 2,\n        \"samples\": [\n          0,\n          1\n        ],\n        \"semantic_type\": \"\",\n        \"description\": \"\"\n      }\n    },\n    {\n      \"column\": \"Study_Hours_per_Week\",\n      \"properties\": {\n        \"dtype\": \"number\",\n        \"std\": 8,\n        \"min\": 10,\n        \"max\": 39,\n        \"num_unique_values\": 30,\n        \"samples\": [\n          33,\n          14\n        ],\n        \"semantic_type\": \"\",\n        \"description\": \"\"\n      }\n    },\n    {\n      \"column\": \"Attendance_Rate\",\n      \"properties\": {\n        \"dtype\": \"number\",\n        \"std\": 13.969186280526129,\n        \"min\": 50.11696953128892,\n        \"max\": 99.96767497829174,\n        \"num_unique_values\": 500,\n        \"samples\": [\n          86.30477930312003,\n          96.64690335499772\n        ],\n        \"semantic_type\": \"\",\n        \"description\": \"\"\n      }\n    },\n    {\n      \"column\": \"Past_Exam_Scores\",\n      \"properties\": {\n        \"dtype\": \"number\",\n        \"std\": 14,\n        \"min\": 50,\n        \"max\": 100,\n        \"num_unique_values\": 51,\n        \"samples\": [\n          75,\n          89\n        ],\n        \"semantic_type\": \"\",\n        \"description\": \"\"\n      }\n    },\n    {\n      \"column\": \"Parental_Education_Level\",\n      \"properties\": {\n        \"dtype\": \"number\",\n        \"std\": 1,\n        \"min\": 0,\n        \"max\": 3,\n        \"num_unique_values\": 4,\n        \"samples\": [\n          3,\n          2\n        ],\n        \"semantic_type\": \"\",\n        \"description\": \"\"\n      }\n    },\n    {\n      \"column\": \"Internet_Access_at_Home\",\n      \"properties\": {\n        \"dtype\": \"number\",\n        \"std\": 0,\n        \"min\": 0,\n        \"max\": 1,\n        \"num_unique_values\": 2,\n        \"samples\": [\n          0,\n          1\n        ],\n        \"semantic_type\": \"\",\n        \"description\": \"\"\n      }\n    },\n    {\n      \"column\": \"Extracurricular_Activities\",\n      \"properties\": {\n        \"dtype\": \"number\",\n        \"std\": 0,\n        \"min\": 0,\n        \"max\": 1,\n        \"num_unique_values\": 2,\n        \"samples\": [\n          0,\n          1\n        ],\n        \"semantic_type\": \"\",\n        \"description\": \"\"\n      }\n    },\n    {\n      \"column\": \"Final_Exam_Score\",\n      \"properties\": {\n        \"dtype\": \"number\",\n        \"std\": 6,\n        \"min\": 50,\n        \"max\": 77,\n        \"num_unique_values\": 27,\n        \"samples\": [\n          59,\n          71\n        ],\n        \"semantic_type\": \"\",\n        \"description\": \"\"\n      }\n    },\n    {\n      \"column\": \"Pass_Fail\",\n      \"properties\": {\n        \"dtype\": \"number\",\n        \"std\": 0,\n        \"min\": 0,\n        \"max\": 1,\n        \"num_unique_values\": 2,\n        \"samples\": [\n          0,\n          1\n        ],\n        \"semantic_type\": \"\",\n        \"description\": \"\"\n      }\n    }\n  ]\n}"
            }
          },
          "metadata": {},
          "execution_count": 20
        }
      ]
    },
    {
      "cell_type": "markdown",
      "source": [
        "Label encoding tiap fitur:\n",
        "- `Gender`: 'Female' = 0, 'Male' = 1\n",
        "- `Parental_Education_Level` : 'Bachelors' = 0, 'High school' = 1, 'Masters' = 2, 'PhD' = 3\n",
        "- `Internet_Access_at_Home` : No = 0, Yes = 1\n",
        "- `Extracurricular_Activities` : No = 0, Yes = 1\n",
        "- `Pass_Fail` : Fail = 0, Pass = 1"
      ],
      "metadata": {
        "id": "MIZzZeWxUZNc"
      }
    },
    {
      "cell_type": "markdown",
      "source": [
        "## **Data Spliting**"
      ],
      "metadata": {
        "id": "HsjX15aZypjN"
      }
    },
    {
      "cell_type": "markdown",
      "source": [
        "Memisahkan data fitur dan target, lalu melakukan pembagian dataset menjadi 80% data pelatihan (training) dan 20% pengujian (testing) sebelum dilakukan proses pemodelan."
      ],
      "metadata": {
        "id": "U3adX1HuUfx9"
      }
    },
    {
      "cell_type": "code",
      "source": [
        "X = df_encoded.drop(columns=['Pass_Fail'], axis=1)\n",
        "y = df_encoded['Pass_Fail']\n",
        "\n",
        "# Split data menjadi 80% training dan 20% testing\n",
        "X_train, X_test, y_train, y_test = train_test_split(X, y, test_size=0.2, random_state=42)\n",
        "X_train.shape, X_test.shape, y_train.shape, y_test.shape"
      ],
      "metadata": {
        "colab": {
          "base_uri": "https://localhost:8080/"
        },
        "id": "EyCE_5b_sijw",
        "outputId": "306fad8e-8ad7-49ae-84e3-6011a568e8df"
      },
      "execution_count": 21,
      "outputs": [
        {
          "output_type": "execute_result",
          "data": {
            "text/plain": [
              "((400, 8), (100, 8), (400,), (100,))"
            ]
          },
          "metadata": {},
          "execution_count": 21
        }
      ]
    },
    {
      "cell_type": "markdown",
      "source": [
        "Menampilkan ukuran dari masing masing data yang dibagi"
      ],
      "metadata": {
        "id": "E7-OuKP7Uj_y"
      }
    },
    {
      "cell_type": "code",
      "source": [
        "print(\"Total Data:\", len(df_encoded))\n",
        "print(\"Total Train Data:\", len(X_train))\n",
        "print(\"Total Test Data:\", len(X_test))"
      ],
      "metadata": {
        "colab": {
          "base_uri": "https://localhost:8080/"
        },
        "id": "YhoFeUXyzDdv",
        "outputId": "6daa04d7-d29f-44a7-90d9-9a4c1320603d"
      },
      "execution_count": 22,
      "outputs": [
        {
          "output_type": "stream",
          "name": "stdout",
          "text": [
            "Total Data: 500\n",
            "Total Train Data: 400\n",
            "Total Test Data: 100\n"
          ]
        }
      ]
    },
    {
      "cell_type": "markdown",
      "source": [
        "## **Modeling**"
      ],
      "metadata": {
        "id": "tQWONTxbUvOl"
      }
    },
    {
      "cell_type": "markdown",
      "source": [
        "Membangun dan membandingkan model machine learning guna mengklasifikasikan status kelulusan siswa (Pass/Fail) berdasarkan fitur-fitur yang tersedia dalam dataset. Dalam proyek ini, digunakan dua algoritma klasifikasi yaitu Decision Tree dan Random Forest, disertai proses peningkatan performa melalui hyperparameter tuning."
      ],
      "metadata": {
        "id": "imMuAEakVCrt"
      }
    },
    {
      "cell_type": "markdown",
      "source": [
        "**1. Decision Tree Classifier**"
      ],
      "metadata": {
        "id": "gbdWhp99VEdv"
      }
    },
    {
      "cell_type": "markdown",
      "source": [
        "Menggunakan `DecisionTreeClassifier` dari pustaka sklearn.tree, kemudian dilatih pada data training. Prediksi dilakukan pada data test dan evaluasi menggunakan metrik akurasi, precision, recall, dan F1-score."
      ],
      "metadata": {
        "id": "5kEVcP0iVSoV"
      }
    },
    {
      "cell_type": "code",
      "source": [
        "# Inisialisasi model\n",
        "dt_model = DecisionTreeClassifier(random_state=42)\n",
        "dt_model.fit(X_train, y_train)\n",
        "\n",
        "# Prediksi pada data test\n",
        "y_pred_dt = dt_model.predict(X_test)\n",
        "\n",
        "# Evaluasi model baseline\n",
        "print(\"Confusion Matrix (Decision Tree):\")\n",
        "print(confusion_matrix(y_test, y_pred_dt))\n",
        "print(\"\\nClassification Report (Decision Tree):\")\n",
        "print(classification_report(y_test, y_pred_dt))\n"
      ],
      "metadata": {
        "colab": {
          "base_uri": "https://localhost:8080/"
        },
        "id": "2KDYAWodzeR3",
        "outputId": "64b3581d-c8ca-4645-f637-5c8103abdbe9"
      },
      "execution_count": 23,
      "outputs": [
        {
          "output_type": "stream",
          "name": "stdout",
          "text": [
            "Confusion Matrix (Decision Tree):\n",
            "[[75  0]\n",
            " [ 0 25]]\n",
            "\n",
            "Classification Report (Decision Tree):\n",
            "              precision    recall  f1-score   support\n",
            "\n",
            "           0       1.00      1.00      1.00        75\n",
            "           1       1.00      1.00      1.00        25\n",
            "\n",
            "    accuracy                           1.00       100\n",
            "   macro avg       1.00      1.00      1.00       100\n",
            "weighted avg       1.00      1.00      1.00       100\n",
            "\n"
          ]
        }
      ]
    },
    {
      "cell_type": "markdown",
      "source": [
        "Menunjukkan hasil sempurna (100%) di seluruh metrik evaluasi, baik pada kelas \"Pass\" maupun \"Fail\". Artinya, model mampu memisahkan kedua kelas tanpa kesalahan. Namun, hasil ini perlu diwaspadai sebagai kemungkinan overfitting, terutama jika data terlalu sederhana atau tidak cukup variatif."
      ],
      "metadata": {
        "id": "bwQjzmWhVfJA"
      }
    },
    {
      "cell_type": "markdown",
      "source": [
        "**2. Random Forest Classifier (Hyperparamater Tuning)**"
      ],
      "metadata": {
        "id": "SeImxiHDVsc4"
      }
    },
    {
      "cell_type": "markdown",
      "source": [
        "Menggabungkan beberapa Decision Tree untuk menghasilkan model yang lebih stabil dan akurat. Setiap pohon dilatih pada subset data yang berbeda dan hasil prediksi diambil berdasarkan mayoritas.\n",
        "Model dibangun menggunakan `RandomForestClassifier` dari `sklearn`.ensemble, dan dilatih dengan parameter default terlebih dahulu."
      ],
      "metadata": {
        "id": "8zTNiv1UV8xo"
      }
    },
    {
      "cell_type": "code",
      "source": [
        "param_dist = {\n",
        "    'n_estimators': [50, 100, 150, 200],\n",
        "    'max_depth': [None, 10, 20, 30],\n",
        "    'min_samples_split': [2, 5, 10],\n",
        "    'min_samples_leaf': [1, 2, 4]\n",
        "}\n",
        "\n",
        "# Inisialisasi model Random Forest\n",
        "rf_model = RandomForestClassifier(random_state=42)\n",
        "\n",
        "# Randomized Search CV\n",
        "rf_search = RandomizedSearchCV(\n",
        "    estimator=rf_model,\n",
        "    param_distributions=param_dist,\n",
        "    n_iter=20,\n",
        "    scoring='f1',\n",
        "    cv=5,\n",
        "    verbose=1,\n",
        "    random_state=42,\n",
        "    n_jobs=-1\n",
        ")\n",
        "\n",
        "rf_search.fit(X_train, y_train)\n",
        "\n",
        "# Prediksi hasil terbaik\n",
        "y_pred_rf = rf_search.predict(X_test)\n",
        "\n",
        "# Evaluasi model terbaik\n",
        "print(\"Best Parameters (Random Forest):\")\n",
        "print(rf_search.best_params_)\n",
        "print(\"\\nConfusion Matrix (Random Forest):\")\n",
        "print(confusion_matrix(y_test, y_pred_rf))\n",
        "print(\"\\nClassification Report (Random Forest):\")\n",
        "print(classification_report(y_test, y_pred_rf))\n"
      ],
      "metadata": {
        "colab": {
          "base_uri": "https://localhost:8080/"
        },
        "id": "wsfFErx1yGeD",
        "outputId": "173359ba-fdf0-4d62-fdeb-7022aba57bf0"
      },
      "execution_count": 24,
      "outputs": [
        {
          "output_type": "stream",
          "name": "stdout",
          "text": [
            "Fitting 5 folds for each of 20 candidates, totalling 100 fits\n",
            "Best Parameters (Random Forest):\n",
            "{'n_estimators': 100, 'min_samples_split': 10, 'min_samples_leaf': 1, 'max_depth': 30}\n",
            "\n",
            "Confusion Matrix (Random Forest):\n",
            "[[75  0]\n",
            " [ 0 25]]\n",
            "\n",
            "Classification Report (Random Forest):\n",
            "              precision    recall  f1-score   support\n",
            "\n",
            "           0       1.00      1.00      1.00        75\n",
            "           1       1.00      1.00      1.00        25\n",
            "\n",
            "    accuracy                           1.00       100\n",
            "   macro avg       1.00      1.00      1.00       100\n",
            "weighted avg       1.00      1.00      1.00       100\n",
            "\n"
          ]
        }
      ]
    },
    {
      "cell_type": "markdown",
      "source": [
        "Hyperparameter Tuning dilakukan untuk mencari kombinasi parameter terbaik agar performa model Random Forest dapat meningkat, dan model dapat melakukan prediksi dengan akurasi tinggi, menghindari overfitting maupun underfitting.\n",
        "\n",
        "Model Random Forest juga menunjukkan akurasi sempurna, bahkan setelah dilakukan hyperparameter tuning.\n",
        "\n",
        "Hal ini mengindikasikan bahwa model berhasil menggeneralisasi pola dengan sangat baik di dataset ini"
      ],
      "metadata": {
        "id": "K4jGGJ-vVqX2"
      }
    },
    {
      "cell_type": "markdown",
      "source": [
        "**Perbandingan untuk Pemilihan Model Terbaik**"
      ],
      "metadata": {
        "id": "lqKYWMgqWx_3"
      }
    },
    {
      "cell_type": "code",
      "source": [
        "# Fungsi untuk evaluasi model\n",
        "def evaluate_model(name, y_true, y_pred):\n",
        "    return {\n",
        "        'Model': name,\n",
        "        'Accuracy': accuracy_score(y_true, y_pred),\n",
        "        'Precision': precision_score(y_true, y_pred, pos_label=1),\n",
        "        'Recall': recall_score(y_true, y_pred, pos_label=1),\n",
        "        'F1 Score': f1_score(y_true, y_pred, pos_label=1)\n",
        "    }\n",
        "\n",
        "# Evaluasi kedua model\n",
        "dt_metrics = evaluate_model(\"Decision Tree\", y_test, y_pred_dt)\n",
        "rf_metrics = evaluate_model(\"Random Forest\", y_test, y_pred_rf)\n",
        "\n",
        "comparison_df = pd.DataFrame([dt_metrics, rf_metrics])\n",
        "\n",
        "print(\"Perbandingan Kinerja Model:\")\n",
        "display(comparison_df)\n"
      ],
      "metadata": {
        "colab": {
          "base_uri": "https://localhost:8080/",
          "height": 143
        },
        "id": "TMGvcuwAy0HT",
        "outputId": "86d60f25-ccd2-42cc-eec6-f0b03ad96e20"
      },
      "execution_count": 25,
      "outputs": [
        {
          "output_type": "stream",
          "name": "stdout",
          "text": [
            "Perbandingan Kinerja Model:\n"
          ]
        },
        {
          "output_type": "display_data",
          "data": {
            "text/plain": [
              "           Model  Accuracy  Precision  Recall  F1 Score\n",
              "0  Decision Tree       1.0        1.0     1.0       1.0\n",
              "1  Random Forest       1.0        1.0     1.0       1.0"
            ],
            "text/html": [
              "\n",
              "  <div id=\"df-c4c67b14-8461-4622-951a-43bd78c996a8\" class=\"colab-df-container\">\n",
              "    <div>\n",
              "<style scoped>\n",
              "    .dataframe tbody tr th:only-of-type {\n",
              "        vertical-align: middle;\n",
              "    }\n",
              "\n",
              "    .dataframe tbody tr th {\n",
              "        vertical-align: top;\n",
              "    }\n",
              "\n",
              "    .dataframe thead th {\n",
              "        text-align: right;\n",
              "    }\n",
              "</style>\n",
              "<table border=\"1\" class=\"dataframe\">\n",
              "  <thead>\n",
              "    <tr style=\"text-align: right;\">\n",
              "      <th></th>\n",
              "      <th>Model</th>\n",
              "      <th>Accuracy</th>\n",
              "      <th>Precision</th>\n",
              "      <th>Recall</th>\n",
              "      <th>F1 Score</th>\n",
              "    </tr>\n",
              "  </thead>\n",
              "  <tbody>\n",
              "    <tr>\n",
              "      <th>0</th>\n",
              "      <td>Decision Tree</td>\n",
              "      <td>1.0</td>\n",
              "      <td>1.0</td>\n",
              "      <td>1.0</td>\n",
              "      <td>1.0</td>\n",
              "    </tr>\n",
              "    <tr>\n",
              "      <th>1</th>\n",
              "      <td>Random Forest</td>\n",
              "      <td>1.0</td>\n",
              "      <td>1.0</td>\n",
              "      <td>1.0</td>\n",
              "      <td>1.0</td>\n",
              "    </tr>\n",
              "  </tbody>\n",
              "</table>\n",
              "</div>\n",
              "    <div class=\"colab-df-buttons\">\n",
              "\n",
              "  <div class=\"colab-df-container\">\n",
              "    <button class=\"colab-df-convert\" onclick=\"convertToInteractive('df-c4c67b14-8461-4622-951a-43bd78c996a8')\"\n",
              "            title=\"Convert this dataframe to an interactive table.\"\n",
              "            style=\"display:none;\">\n",
              "\n",
              "  <svg xmlns=\"http://www.w3.org/2000/svg\" height=\"24px\" viewBox=\"0 -960 960 960\">\n",
              "    <path d=\"M120-120v-720h720v720H120Zm60-500h600v-160H180v160Zm220 220h160v-160H400v160Zm0 220h160v-160H400v160ZM180-400h160v-160H180v160Zm440 0h160v-160H620v160ZM180-180h160v-160H180v160Zm440 0h160v-160H620v160Z\"/>\n",
              "  </svg>\n",
              "    </button>\n",
              "\n",
              "  <style>\n",
              "    .colab-df-container {\n",
              "      display:flex;\n",
              "      gap: 12px;\n",
              "    }\n",
              "\n",
              "    .colab-df-convert {\n",
              "      background-color: #E8F0FE;\n",
              "      border: none;\n",
              "      border-radius: 50%;\n",
              "      cursor: pointer;\n",
              "      display: none;\n",
              "      fill: #1967D2;\n",
              "      height: 32px;\n",
              "      padding: 0 0 0 0;\n",
              "      width: 32px;\n",
              "    }\n",
              "\n",
              "    .colab-df-convert:hover {\n",
              "      background-color: #E2EBFA;\n",
              "      box-shadow: 0px 1px 2px rgba(60, 64, 67, 0.3), 0px 1px 3px 1px rgba(60, 64, 67, 0.15);\n",
              "      fill: #174EA6;\n",
              "    }\n",
              "\n",
              "    .colab-df-buttons div {\n",
              "      margin-bottom: 4px;\n",
              "    }\n",
              "\n",
              "    [theme=dark] .colab-df-convert {\n",
              "      background-color: #3B4455;\n",
              "      fill: #D2E3FC;\n",
              "    }\n",
              "\n",
              "    [theme=dark] .colab-df-convert:hover {\n",
              "      background-color: #434B5C;\n",
              "      box-shadow: 0px 1px 3px 1px rgba(0, 0, 0, 0.15);\n",
              "      filter: drop-shadow(0px 1px 2px rgba(0, 0, 0, 0.3));\n",
              "      fill: #FFFFFF;\n",
              "    }\n",
              "  </style>\n",
              "\n",
              "    <script>\n",
              "      const buttonEl =\n",
              "        document.querySelector('#df-c4c67b14-8461-4622-951a-43bd78c996a8 button.colab-df-convert');\n",
              "      buttonEl.style.display =\n",
              "        google.colab.kernel.accessAllowed ? 'block' : 'none';\n",
              "\n",
              "      async function convertToInteractive(key) {\n",
              "        const element = document.querySelector('#df-c4c67b14-8461-4622-951a-43bd78c996a8');\n",
              "        const dataTable =\n",
              "          await google.colab.kernel.invokeFunction('convertToInteractive',\n",
              "                                                    [key], {});\n",
              "        if (!dataTable) return;\n",
              "\n",
              "        const docLinkHtml = 'Like what you see? Visit the ' +\n",
              "          '<a target=\"_blank\" href=https://colab.research.google.com/notebooks/data_table.ipynb>data table notebook</a>'\n",
              "          + ' to learn more about interactive tables.';\n",
              "        element.innerHTML = '';\n",
              "        dataTable['output_type'] = 'display_data';\n",
              "        await google.colab.output.renderOutput(dataTable, element);\n",
              "        const docLink = document.createElement('div');\n",
              "        docLink.innerHTML = docLinkHtml;\n",
              "        element.appendChild(docLink);\n",
              "      }\n",
              "    </script>\n",
              "  </div>\n",
              "\n",
              "\n",
              "    <div id=\"df-64b96430-88ef-4e1d-9914-0697209a41b5\">\n",
              "      <button class=\"colab-df-quickchart\" onclick=\"quickchart('df-64b96430-88ef-4e1d-9914-0697209a41b5')\"\n",
              "                title=\"Suggest charts\"\n",
              "                style=\"display:none;\">\n",
              "\n",
              "<svg xmlns=\"http://www.w3.org/2000/svg\" height=\"24px\"viewBox=\"0 0 24 24\"\n",
              "     width=\"24px\">\n",
              "    <g>\n",
              "        <path d=\"M19 3H5c-1.1 0-2 .9-2 2v14c0 1.1.9 2 2 2h14c1.1 0 2-.9 2-2V5c0-1.1-.9-2-2-2zM9 17H7v-7h2v7zm4 0h-2V7h2v10zm4 0h-2v-4h2v4z\"/>\n",
              "    </g>\n",
              "</svg>\n",
              "      </button>\n",
              "\n",
              "<style>\n",
              "  .colab-df-quickchart {\n",
              "      --bg-color: #E8F0FE;\n",
              "      --fill-color: #1967D2;\n",
              "      --hover-bg-color: #E2EBFA;\n",
              "      --hover-fill-color: #174EA6;\n",
              "      --disabled-fill-color: #AAA;\n",
              "      --disabled-bg-color: #DDD;\n",
              "  }\n",
              "\n",
              "  [theme=dark] .colab-df-quickchart {\n",
              "      --bg-color: #3B4455;\n",
              "      --fill-color: #D2E3FC;\n",
              "      --hover-bg-color: #434B5C;\n",
              "      --hover-fill-color: #FFFFFF;\n",
              "      --disabled-bg-color: #3B4455;\n",
              "      --disabled-fill-color: #666;\n",
              "  }\n",
              "\n",
              "  .colab-df-quickchart {\n",
              "    background-color: var(--bg-color);\n",
              "    border: none;\n",
              "    border-radius: 50%;\n",
              "    cursor: pointer;\n",
              "    display: none;\n",
              "    fill: var(--fill-color);\n",
              "    height: 32px;\n",
              "    padding: 0;\n",
              "    width: 32px;\n",
              "  }\n",
              "\n",
              "  .colab-df-quickchart:hover {\n",
              "    background-color: var(--hover-bg-color);\n",
              "    box-shadow: 0 1px 2px rgba(60, 64, 67, 0.3), 0 1px 3px 1px rgba(60, 64, 67, 0.15);\n",
              "    fill: var(--button-hover-fill-color);\n",
              "  }\n",
              "\n",
              "  .colab-df-quickchart-complete:disabled,\n",
              "  .colab-df-quickchart-complete:disabled:hover {\n",
              "    background-color: var(--disabled-bg-color);\n",
              "    fill: var(--disabled-fill-color);\n",
              "    box-shadow: none;\n",
              "  }\n",
              "\n",
              "  .colab-df-spinner {\n",
              "    border: 2px solid var(--fill-color);\n",
              "    border-color: transparent;\n",
              "    border-bottom-color: var(--fill-color);\n",
              "    animation:\n",
              "      spin 1s steps(1) infinite;\n",
              "  }\n",
              "\n",
              "  @keyframes spin {\n",
              "    0% {\n",
              "      border-color: transparent;\n",
              "      border-bottom-color: var(--fill-color);\n",
              "      border-left-color: var(--fill-color);\n",
              "    }\n",
              "    20% {\n",
              "      border-color: transparent;\n",
              "      border-left-color: var(--fill-color);\n",
              "      border-top-color: var(--fill-color);\n",
              "    }\n",
              "    30% {\n",
              "      border-color: transparent;\n",
              "      border-left-color: var(--fill-color);\n",
              "      border-top-color: var(--fill-color);\n",
              "      border-right-color: var(--fill-color);\n",
              "    }\n",
              "    40% {\n",
              "      border-color: transparent;\n",
              "      border-right-color: var(--fill-color);\n",
              "      border-top-color: var(--fill-color);\n",
              "    }\n",
              "    60% {\n",
              "      border-color: transparent;\n",
              "      border-right-color: var(--fill-color);\n",
              "    }\n",
              "    80% {\n",
              "      border-color: transparent;\n",
              "      border-right-color: var(--fill-color);\n",
              "      border-bottom-color: var(--fill-color);\n",
              "    }\n",
              "    90% {\n",
              "      border-color: transparent;\n",
              "      border-bottom-color: var(--fill-color);\n",
              "    }\n",
              "  }\n",
              "</style>\n",
              "\n",
              "      <script>\n",
              "        async function quickchart(key) {\n",
              "          const quickchartButtonEl =\n",
              "            document.querySelector('#' + key + ' button');\n",
              "          quickchartButtonEl.disabled = true;  // To prevent multiple clicks.\n",
              "          quickchartButtonEl.classList.add('colab-df-spinner');\n",
              "          try {\n",
              "            const charts = await google.colab.kernel.invokeFunction(\n",
              "                'suggestCharts', [key], {});\n",
              "          } catch (error) {\n",
              "            console.error('Error during call to suggestCharts:', error);\n",
              "          }\n",
              "          quickchartButtonEl.classList.remove('colab-df-spinner');\n",
              "          quickchartButtonEl.classList.add('colab-df-quickchart-complete');\n",
              "        }\n",
              "        (() => {\n",
              "          let quickchartButtonEl =\n",
              "            document.querySelector('#df-64b96430-88ef-4e1d-9914-0697209a41b5 button');\n",
              "          quickchartButtonEl.style.display =\n",
              "            google.colab.kernel.accessAllowed ? 'block' : 'none';\n",
              "        })();\n",
              "      </script>\n",
              "    </div>\n",
              "\n",
              "  <div id=\"id_4e0a1211-6846-4b34-94d3-48136f70d0d6\">\n",
              "    <style>\n",
              "      .colab-df-generate {\n",
              "        background-color: #E8F0FE;\n",
              "        border: none;\n",
              "        border-radius: 50%;\n",
              "        cursor: pointer;\n",
              "        display: none;\n",
              "        fill: #1967D2;\n",
              "        height: 32px;\n",
              "        padding: 0 0 0 0;\n",
              "        width: 32px;\n",
              "      }\n",
              "\n",
              "      .colab-df-generate:hover {\n",
              "        background-color: #E2EBFA;\n",
              "        box-shadow: 0px 1px 2px rgba(60, 64, 67, 0.3), 0px 1px 3px 1px rgba(60, 64, 67, 0.15);\n",
              "        fill: #174EA6;\n",
              "      }\n",
              "\n",
              "      [theme=dark] .colab-df-generate {\n",
              "        background-color: #3B4455;\n",
              "        fill: #D2E3FC;\n",
              "      }\n",
              "\n",
              "      [theme=dark] .colab-df-generate:hover {\n",
              "        background-color: #434B5C;\n",
              "        box-shadow: 0px 1px 3px 1px rgba(0, 0, 0, 0.15);\n",
              "        filter: drop-shadow(0px 1px 2px rgba(0, 0, 0, 0.3));\n",
              "        fill: #FFFFFF;\n",
              "      }\n",
              "    </style>\n",
              "    <button class=\"colab-df-generate\" onclick=\"generateWithVariable('comparison_df')\"\n",
              "            title=\"Generate code using this dataframe.\"\n",
              "            style=\"display:none;\">\n",
              "\n",
              "  <svg xmlns=\"http://www.w3.org/2000/svg\" height=\"24px\"viewBox=\"0 0 24 24\"\n",
              "       width=\"24px\">\n",
              "    <path d=\"M7,19H8.4L18.45,9,17,7.55,7,17.6ZM5,21V16.75L18.45,3.32a2,2,0,0,1,2.83,0l1.4,1.43a1.91,1.91,0,0,1,.58,1.4,1.91,1.91,0,0,1-.58,1.4L9.25,21ZM18.45,9,17,7.55Zm-12,3A5.31,5.31,0,0,0,4.9,8.1,5.31,5.31,0,0,0,1,6.5,5.31,5.31,0,0,0,4.9,4.9,5.31,5.31,0,0,0,6.5,1,5.31,5.31,0,0,0,8.1,4.9,5.31,5.31,0,0,0,12,6.5,5.46,5.46,0,0,0,6.5,12Z\"/>\n",
              "  </svg>\n",
              "    </button>\n",
              "    <script>\n",
              "      (() => {\n",
              "      const buttonEl =\n",
              "        document.querySelector('#id_4e0a1211-6846-4b34-94d3-48136f70d0d6 button.colab-df-generate');\n",
              "      buttonEl.style.display =\n",
              "        google.colab.kernel.accessAllowed ? 'block' : 'none';\n",
              "\n",
              "      buttonEl.onclick = () => {\n",
              "        google.colab.notebook.generateWithVariable('comparison_df');\n",
              "      }\n",
              "      })();\n",
              "    </script>\n",
              "  </div>\n",
              "\n",
              "    </div>\n",
              "  </div>\n"
            ],
            "application/vnd.google.colaboratory.intrinsic+json": {
              "type": "dataframe",
              "variable_name": "comparison_df",
              "summary": "{\n  \"name\": \"comparison_df\",\n  \"rows\": 2,\n  \"fields\": [\n    {\n      \"column\": \"Model\",\n      \"properties\": {\n        \"dtype\": \"string\",\n        \"num_unique_values\": 2,\n        \"samples\": [\n          \"Random Forest\",\n          \"Decision Tree\"\n        ],\n        \"semantic_type\": \"\",\n        \"description\": \"\"\n      }\n    },\n    {\n      \"column\": \"Accuracy\",\n      \"properties\": {\n        \"dtype\": \"number\",\n        \"std\": 0.0,\n        \"min\": 1.0,\n        \"max\": 1.0,\n        \"num_unique_values\": 1,\n        \"samples\": [\n          1.0\n        ],\n        \"semantic_type\": \"\",\n        \"description\": \"\"\n      }\n    },\n    {\n      \"column\": \"Precision\",\n      \"properties\": {\n        \"dtype\": \"number\",\n        \"std\": 0.0,\n        \"min\": 1.0,\n        \"max\": 1.0,\n        \"num_unique_values\": 1,\n        \"samples\": [\n          1.0\n        ],\n        \"semantic_type\": \"\",\n        \"description\": \"\"\n      }\n    },\n    {\n      \"column\": \"Recall\",\n      \"properties\": {\n        \"dtype\": \"number\",\n        \"std\": 0.0,\n        \"min\": 1.0,\n        \"max\": 1.0,\n        \"num_unique_values\": 1,\n        \"samples\": [\n          1.0\n        ],\n        \"semantic_type\": \"\",\n        \"description\": \"\"\n      }\n    },\n    {\n      \"column\": \"F1 Score\",\n      \"properties\": {\n        \"dtype\": \"number\",\n        \"std\": 0.0,\n        \"min\": 1.0,\n        \"max\": 1.0,\n        \"num_unique_values\": 1,\n        \"samples\": [\n          1.0\n        ],\n        \"semantic_type\": \"\",\n        \"description\": \"\"\n      }\n    }\n  ]\n}"
            }
          },
          "metadata": {}
        }
      ]
    },
    {
      "cell_type": "markdown",
      "source": [
        "**Visualisasi Perbandingan untuk Pemilihan Model Terbaik**"
      ],
      "metadata": {
        "id": "cdqbY72BXWl2"
      }
    },
    {
      "cell_type": "code",
      "source": [
        "plt.figure(figsize=(10, 6))\n",
        "comparison_df.set_index('Model')[['Accuracy', 'Precision', 'Recall', 'F1 Score']].plot(\n",
        "    kind='bar', ylim=(0, 1), title='Perbandingan Kinerja Model: Decision Tree vs Random Forest',\n",
        "    rot=0, colormap='Blues', edgecolor='black'\n",
        ")\n",
        "plt.ylabel(\"Skor\")\n",
        "plt.grid(axis='y')\n",
        "plt.tight_layout()\n",
        "plt.show()\n"
      ],
      "metadata": {
        "colab": {
          "base_uri": "https://localhost:8080/",
          "height": 505
        },
        "id": "YPZjvyf44UgH",
        "outputId": "c21745e5-d776-4e47-c42f-b6cbbe46388d"
      },
      "execution_count": 26,
      "outputs": [
        {
          "output_type": "display_data",
          "data": {
            "text/plain": [
              "<Figure size 1000x600 with 0 Axes>"
            ]
          },
          "metadata": {}
        },
        {
          "output_type": "display_data",
          "data": {
            "text/plain": [
              "<Figure size 640x480 with 1 Axes>"
            ],
            "image/png": "[encoded data removed]"
          },
          "metadata": {}
        }
      ]
    },
    {
      "cell_type": "markdown",
      "source": [
        "Setelah dilakukan perbandingan pada kedua algoritma:\n",
        "1. Decision Tree memberikan hasil yang baik namun lebih rentan overfitting.\n",
        "2. Random Forest dengan Hyperparameter Tuning menunjukkan hasil yang lebih akurat dan stabil.\n",
        "\n",
        "Maka, model Random Forest dengan Hyperparameter Tuning dipilih sebagai model terbaik."
      ],
      "metadata": {
        "id": "p0khM_cfXoob"
      }
    },
    {
      "cell_type": "markdown",
      "source": [
        "**Feature Importance**"
      ],
      "metadata": {
        "id": "KSCkQrkEWHMy"
      }
    },
    {
      "cell_type": "markdown",
      "source": [
        "Mengecek dan menampilkan fitur-fitur yang paling berpengaruh"
      ],
      "metadata": {
        "id": "FEzsMCXQWRoB"
      }
    },
    {
      "cell_type": "code",
      "source": [
        "# Ambil fitur dan importance\n",
        "importances = rf_search.best_estimator_.feature_importances_\n",
        "features = X.columns\n",
        "\n",
        "# Buat DataFrame dan urutkan\n",
        "feat_imp_df = pd.DataFrame({'Feature': features, 'Importance': importances})\n",
        "feat_imp_df = feat_imp_df.sort_values(by='Importance', ascending=False)\n",
        "\n",
        "# Visualisasi\n",
        "plt.figure(figsize=(10, 6))\n",
        "plt.barh(feat_imp_df['Feature'], feat_imp_df['Importance'])\n",
        "plt.xlabel(\"Feature Importance\")\n",
        "plt.title(\"Random Forest Feature Importance\")\n",
        "plt.gca().invert_yaxis()\n",
        "plt.show()"
      ],
      "metadata": {
        "colab": {
          "base_uri": "https://localhost:8080/",
          "height": 564
        },
        "id": "f2-DbCcJyPiJ",
        "outputId": "1e3867dd-c295-4d6c-b330-aea9f4925b52"
      },
      "execution_count": 27,
      "outputs": [
        {
          "output_type": "display_data",
          "data": {
            "text/plain": [
              "<Figure size 1000x600 with 1 Axes>"
            ],
            "image/png": "[encoded data removed]"
          },
          "metadata": {}
        }
      ]
    },
    {
      "cell_type": "markdown",
      "source": [
        "Berdasarkan hasil feature importance fitur-fitur yang paling signifikan yaitu:\n",
        "1. `Final_Exam_Score`\n",
        "2. `Past_Exam_Scores`\n",
        "\n",
        "Maka dari itu, nilai ujian akhir dan nilai ujian sebelumnya menjadi hal yang paling berpengaruh dalam menentukan kelulusan siswa. Fitur-fitur ini sejalan dengan logika domain pendidikan, dan dapat digunakan sebagai dasar untuk intervensi kebijakan akademik."
      ],
      "metadata": {
        "id": "9al0Lxp9WY55"
      }
    }
  ]
}